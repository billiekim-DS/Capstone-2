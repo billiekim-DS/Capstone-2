{
 "cells": [
  {
   "cell_type": "markdown",
   "metadata": {},
   "source": [
    "# COVID-19 Vaccine Twitter Modeling"
   ]
  },
  {
   "cell_type": "markdown",
   "metadata": {},
   "source": [
    "## Contents\n",
    "1. [Imports](#1.-Imports)\n",
    "2. [Load Preprocessed Data](#2.-Load-Preprocessed-Data)\n",
    "3. [Model 1: Restricted/Nested Model](#3.-Model-1:-Restricted/Nested-Model)\n",
    "    * [3.1 Baseline Accuracy](#3.1-Baseline-Accuracy)\n",
    "    * [3.2 Hyperparameter Tuning](#3.2-Hyperparameter-Tuning)\n",
    "    * [3.3 Results](#3.3-Results)\n",
    "4. [Model 2: Full Model](#4.-Model-2:-Full-Model)\n",
    "    * [4.1 Baseline Accuracy](#4.1-Baseline-Accuracy)\n",
    "    * [4.2 Hyperparameter Tuning](#4.2-Hyperparameter-Tuning)\n",
    "    * [4.3 Results](#4.3-Results)\n",
    "5. [Model 3: 2-Step Model/Pipeline System](#5.-Model-3:-2-Step-Model/Pipeline-System)\n",
    "    * [5.1 Pipeline (step 1): Subjectivity Classifier](#5.1-Pipeline-(step-1):-Subjectivity-Classifier)\n",
    "        * [5.1.1 Algorithms Comparison](#5.1.1-Algorithms-Comparison)\n",
    "        * [5.1.2 Logistic Regression](#5.1.2-Logistic-Regression)\n",
    "        * [5.1.3 Ridge Classifier](#5.1.3-Ridge-Classifier)\n",
    "        * [5.1.4 Ensemble - Voting Classifier](#5.1.4-Ensemble---Voting-Classifier)    \n",
    "        * [5.1.5 Results](#5.1.5-Results)\n",
    "    * [5.2 Pipeline (step 2): Sentiment Classifier](#5.2-Pipeline-(step-2):-Sentiment-Classifier)\n",
    "    * [5.3 Full System Summary (step 1 & step 2)](#5.3-Full-System-Summary-(step-1-&-step-2))\n",
    "        * [5.3.1 Aggregating Metrics](#5.3.1-Aggregating-Metrics)\n",
    "        * [5.3.2 Results](#5.3.2-Results)\n",
    "6. [Performance Metrics Evaluation](#6.-Performance-Metrics-Evaluation)"
   ]
  },
  {
   "cell_type": "markdown",
   "metadata": {},
   "source": [
    "## 1. Imports"
   ]
  },
  {
   "cell_type": "code",
   "execution_count": 2,
   "metadata": {
    "scrolled": true
   },
   "outputs": [],
   "source": [
    "# Import packages\n",
    "import numpy as np\n",
    "import pandas as pd\n",
    "import matplotlib.pyplot as plt\n",
    "import seaborn as sns\n",
    "import os\n",
    "import re\n",
    "import itertools\n",
    "import shap\n",
    "import eli5\n",
    "import nltk\n",
    "import contractions\n",
    "import dataframe_image as dfi\n",
    "from bs4 import BeautifulSoup\n",
    "from collections import Counter\n",
    "from math import log\n",
    "import kds\n",
    "import nltk\n",
    "# nltk.download('wordnet')\n",
    "# nltk.download('punkt')\n",
    "# nltk.download('vader_lexicon')\n",
    "from nltk.tokenize import word_tokenize,TweetTokenizer\n",
    "from nltk.stem import WordNetLemmatizer\n",
    "from nltk.sentiment.vader import SentimentIntensityAnalyzer\n",
    "from sklearn.feature_extraction.text import TfidfVectorizer,CountVectorizer\n",
    "from sklearn.model_selection import train_test_split,GridSearchCV,RandomizedSearchCV\n",
    "from sklearn.linear_model import LogisticRegression,RidgeClassifier\n",
    "from sklearn.metrics import classification_report,confusion_matrix,make_scorer,accuracy_score,precision_score,recall_score,f1_score,roc_curve,auc,precision_recall_fscore_support\n",
    "from sklearn.pipeline import Pipeline\n",
    "from sklearn.svm import LinearSVC,SVC\n",
    "from sklearn.tree import DecisionTreeClassifier\n",
    "from sklearn.naive_bayes import MultinomialNB\n",
    "from sklearn.ensemble import RandomForestClassifier,GradientBoostingClassifier,VotingClassifier\n",
    "from sklearn.linear_model import PassiveAggressiveClassifier\n",
    "from sklearn.neighbors import KNeighborsClassifier\n",
    "from string import punctuation\n",
    "# from tortus import Tortus\n",
    "import warnings\n",
    "warnings.filterwarnings('ignore')\n",
    "%matplotlib inline"
   ]
  },
  {
   "cell_type": "markdown",
   "metadata": {},
   "source": [
    "## 2. Load Preprocessed Data"
   ]
  },
  {
   "cell_type": "code",
   "execution_count": 3,
   "metadata": {
    "scrolled": true
   },
   "outputs": [],
   "source": [
    "# Load the preprocessed data: 'covidvaccine_preprocessed.csv'\n",
    "df = pd.read_csv('../data/covidvaccine_preprocessed.csv')"
   ]
  },
  {
   "cell_type": "code",
   "execution_count": 4,
   "metadata": {},
   "outputs": [
    {
     "data": {
      "text/plain": [
       "(124427, 16)"
      ]
     },
     "execution_count": 4,
     "metadata": {},
     "output_type": "execute_result"
    }
   ],
   "source": [
    "df.shape"
   ]
  },
  {
   "cell_type": "code",
   "execution_count": 5,
   "metadata": {},
   "outputs": [
    {
     "name": "stdout",
     "output_type": "stream",
     "text": [
      "<class 'pandas.core.frame.DataFrame'>\n",
      "RangeIndex: 124427 entries, 0 to 124426\n",
      "Data columns (total 16 columns):\n",
      " #   Column            Non-Null Count   Dtype  \n",
      "---  ------            --------------   -----  \n",
      " 0   user_name         124427 non-null  object \n",
      " 1   user_location     98969 non-null   object \n",
      " 2   user_description  117980 non-null  object \n",
      " 3   user_created      124427 non-null  object \n",
      " 4   user_followers    124427 non-null  float64\n",
      " 5   user_friends      124427 non-null  float64\n",
      " 6   user_favourites   124427 non-null  float64\n",
      " 7   user_verified     124427 non-null  bool   \n",
      " 8   date              124427 non-null  object \n",
      " 9   text              124427 non-null  object \n",
      " 10  hashtags          124427 non-null  object \n",
      " 11  source            123364 non-null  object \n",
      " 12  is_retweet        124427 non-null  bool   \n",
      " 13  clean_hashtags    124427 non-null  object \n",
      " 14  clean_text        124427 non-null  object \n",
      " 15  clean_tweets      124427 non-null  object \n",
      "dtypes: bool(2), float64(3), object(11)\n",
      "memory usage: 13.5+ MB\n"
     ]
    }
   ],
   "source": [
    "df.info()"
   ]
  },
  {
   "cell_type": "code",
   "execution_count": 6,
   "metadata": {},
   "outputs": [],
   "source": [
    "# Set 'date' and 'user_created' columns as Datetime\n",
    "df['date'] = pd.to_datetime(df.date)\n",
    "df['user_created'] = pd.to_datetime(df.user_created)"
   ]
  },
  {
   "cell_type": "code",
   "execution_count": 7,
   "metadata": {},
   "outputs": [
    {
     "data": {
      "text/plain": [
       "user_name                   object\n",
       "user_location               object\n",
       "user_description            object\n",
       "user_created        datetime64[ns]\n",
       "user_followers             float64\n",
       "user_friends               float64\n",
       "user_favourites            float64\n",
       "user_verified                 bool\n",
       "date                datetime64[ns]\n",
       "text                        object\n",
       "hashtags                    object\n",
       "source                      object\n",
       "is_retweet                    bool\n",
       "clean_hashtags              object\n",
       "clean_text                  object\n",
       "clean_tweets                object\n",
       "dtype: object"
      ]
     },
     "execution_count": 7,
     "metadata": {},
     "output_type": "execute_result"
    }
   ],
   "source": [
    "df.dtypes"
   ]
  },
  {
   "cell_type": "code",
   "execution_count": 8,
   "metadata": {
    "jupyter": {
     "source_hidden": true
    },
    "scrolled": true,
    "tags": []
   },
   "outputs": [
    {
     "data": {
      "text/html": [
       "<div>\n",
       "<style scoped>\n",
       "    .dataframe tbody tr th:only-of-type {\n",
       "        vertical-align: middle;\n",
       "    }\n",
       "\n",
       "    .dataframe tbody tr th {\n",
       "        vertical-align: top;\n",
       "    }\n",
       "\n",
       "    .dataframe thead th {\n",
       "        text-align: right;\n",
       "    }\n",
       "</style>\n",
       "<table border=\"1\" class=\"dataframe\">\n",
       "  <thead>\n",
       "    <tr style=\"text-align: right;\">\n",
       "      <th></th>\n",
       "      <th>user_name</th>\n",
       "      <th>user_location</th>\n",
       "      <th>user_description</th>\n",
       "      <th>user_created</th>\n",
       "      <th>user_followers</th>\n",
       "      <th>user_friends</th>\n",
       "      <th>user_favourites</th>\n",
       "      <th>user_verified</th>\n",
       "      <th>date</th>\n",
       "      <th>text</th>\n",
       "      <th>hashtags</th>\n",
       "      <th>source</th>\n",
       "      <th>is_retweet</th>\n",
       "      <th>clean_hashtags</th>\n",
       "      <th>clean_text</th>\n",
       "      <th>clean_tweets</th>\n",
       "    </tr>\n",
       "  </thead>\n",
       "  <tbody>\n",
       "  </tbody>\n",
       "</table>\n",
       "</div>"
      ],
      "text/plain": [
       "Empty DataFrame\n",
       "Columns: [user_name, user_location, user_description, user_created, user_followers, user_friends, user_favourites, user_verified, date, text, hashtags, source, is_retweet, clean_hashtags, clean_text, clean_tweets]\n",
       "Index: []"
      ]
     },
     "execution_count": 8,
     "metadata": {},
     "output_type": "execute_result"
    }
   ],
   "source": [
    "# Check for duplicates\n",
    "df[df.duplicated(['clean_tweets'],keep=False)].sort_values('clean_tweets')"
   ]
  },
  {
   "cell_type": "markdown",
   "metadata": {},
   "source": [
    "## 3. Model 1: Restricted/Nested Model"
   ]
  },
  {
   "cell_type": "markdown",
   "metadata": {},
   "source": [
    "**Labels: Negative, Neutral, Positive**\n",
    "\n",
    "<br>\n",
    "\n",
    "***\n",
    "- **Note:** Facts/Announcements were labeled as having Neutral sentiment.\n",
    "***"
   ]
  },
  {
   "cell_type": "markdown",
   "metadata": {},
   "source": [
    "### 3.1 Baseline Accuracy"
   ]
  },
  {
   "cell_type": "code",
   "execution_count": 9,
   "metadata": {},
   "outputs": [
    {
     "name": "stdout",
     "output_type": "stream",
     "text": [
      "Baseline Accuracy = 57.90 %\n"
     ]
    },
    {
     "data": {
      "text/html": [
       "<div>\n",
       "<style scoped>\n",
       "    .dataframe tbody tr th:only-of-type {\n",
       "        vertical-align: middle;\n",
       "    }\n",
       "\n",
       "    .dataframe tbody tr th {\n",
       "        vertical-align: top;\n",
       "    }\n",
       "\n",
       "    .dataframe thead th {\n",
       "        text-align: right;\n",
       "    }\n",
       "</style>\n",
       "<table border=\"1\" class=\"dataframe\">\n",
       "  <thead>\n",
       "    <tr style=\"text-align: right;\">\n",
       "      <th></th>\n",
       "      <th>count</th>\n",
       "      <th>%</th>\n",
       "    </tr>\n",
       "  </thead>\n",
       "  <tbody>\n",
       "    <tr>\n",
       "      <th>1</th>\n",
       "      <td>579</td>\n",
       "      <td>0.579</td>\n",
       "    </tr>\n",
       "    <tr>\n",
       "      <th>2</th>\n",
       "      <td>324</td>\n",
       "      <td>0.324</td>\n",
       "    </tr>\n",
       "    <tr>\n",
       "      <th>0</th>\n",
       "      <td>97</td>\n",
       "      <td>0.097</td>\n",
       "    </tr>\n",
       "  </tbody>\n",
       "</table>\n",
       "</div>"
      ],
      "text/plain": [
       "   count      %\n",
       "1    579  0.579\n",
       "2    324  0.324\n",
       "0     97  0.097"
      ]
     },
     "execution_count": 9,
     "metadata": {},
     "output_type": "execute_result"
    }
   ],
   "source": [
    "df_factop1k = pd.read_csv('../data/1000_lab6.csv')\n",
    "factop1k_cleaned = df_factop1k[['clean_tweets','label','classes','classes2']]\n",
    "factop1k_cleaned2 = factop1k_cleaned.copy()\n",
    "factop1k_cleaned2['classes2'] = factop1k_cleaned2['classes2'].replace(3,1)\n",
    "\n",
    "factop1k_counts1 = pd.DataFrame({'count':factop1k_cleaned2['classes2'].value_counts(),'%':factop1k_cleaned2['classes2'].value_counts(normalize=True)})\n",
    "base1 = factop1k_counts1['%'].max()\n",
    "\n",
    "print(\"Baseline Accuracy = %0.2f %%\"%(base1*100))\n",
    "factop1k_counts1"
   ]
  },
  {
   "cell_type": "code",
   "execution_count": 10,
   "metadata": {},
   "outputs": [
    {
     "data": {
      "image/png": "[encoded data removed]",
      "text/plain": [
       "<Figure size 432x288 with 1 Axes>"
      ]
     },
     "metadata": {
      "needs_background": "light"
     },
     "output_type": "display_data"
    }
   ],
   "source": [
    "xy1 = {'Negative':96,'Neutral':577,'Positive':327}\n",
    "plt.bar(xy1.keys(),xy1.values())\n",
    "plt.tight_layout();"
   ]
  },
  {
   "cell_type": "markdown",
   "metadata": {},
   "source": [
    "<br>\n",
    "\n",
    "***\n",
    "- **Note:** There seems to be a large class imbalance in the distribution of the data. \n",
    "     - The largest (majority) class size was Neutral Sentiment with 576 occurences while Negative Sentiment (the minority class) had only 97 occurences.\n",
    "     - There could be a problem with our labels.\n",
    "     - This could partly be the result of labeling news-related tweets into the Neutral class. In the next section, I will explore the full model that has a separate class for facts/announcements.\n",
    "***"
   ]
  },
  {
   "cell_type": "code",
   "execution_count": 11,
   "metadata": {},
   "outputs": [],
   "source": [
    "X1 = factop1k_cleaned2.clean_tweets\n",
    "y1 = factop1k_cleaned2.classes2\n",
    "\n",
    "corpus_train1,corpus_test1,y_train1,y_test1 = train_test_split(X1,y1,test_size=0.3,random_state=3)"
   ]
  },
  {
   "cell_type": "code",
   "execution_count": 12,
   "metadata": {},
   "outputs": [],
   "source": [
    "labels = ['Negative','Neutral','Positive']\n",
    "\n",
    "# Function to plot confusion matrix\n",
    "def confusion_mat(y_test,y_pred,labels):\n",
    "    cm = confusion_matrix(y_test,y_pred)\n",
    "    cm_normalize = cm.astype('float')/cm.sum(axis=1)[:,np.newaxis]\n",
    "\n",
    "    fig,ax = plt.subplots(1,2,figsize=(10,4))\n",
    "    sns.heatmap(cm,annot=True,fmt='g',cmap='Blues',ax=ax[0])\n",
    "    sns.heatmap(cm_normalize,annot=True,fmt='.2',cmap='Blues',ax=ax[1])\n",
    "\n",
    "    # labels, title, xticks, yticks\n",
    "    ax[0].set_xlabel('Predicted label')\n",
    "    ax[0].set_ylabel('True label') \n",
    "    ax[0].set_title('Confusion Matrix, without normalization')\n",
    "    ax[0].xaxis.set_ticklabels(labels) \n",
    "    ax[0].yaxis.set_ticklabels(labels)\n",
    "    ax[1].set_xlabel('Predicted label')\n",
    "    ax[1].set_ylabel('True label') \n",
    "    ax[1].set_title('Normalized Confusion Matrix')\n",
    "    ax[1].xaxis.set_ticklabels(labels) \n",
    "    ax[1].yaxis.set_ticklabels(labels)\n",
    "    plt.tight_layout()\n",
    "    plt.show(); "
   ]
  },
  {
   "cell_type": "code",
   "execution_count": 13,
   "metadata": {
    "scrolled": false
   },
   "outputs": [
    {
     "name": "stdout",
     "output_type": "stream",
     "text": [
      "TfidfVect - LOGISTIC REGRESSION MODEL: \n",
      "\n",
      "              precision    recall  f1-score   support\n",
      "\n",
      "    Negative       0.00      0.00      0.00        24\n",
      "     Neutral       0.77      0.97      0.86       185\n",
      "    Positive       0.90      0.66      0.76        91\n",
      "\n",
      "    accuracy                           0.80       300\n",
      "   macro avg       0.56      0.54      0.54       300\n",
      "weighted avg       0.75      0.80      0.76       300\n",
      "\n"
     ]
    },
    {
     "data": {
      "image/png": "[encoded data removed]",
      "text/plain": [
       "<Figure size 720x288 with 4 Axes>"
      ]
     },
     "metadata": {
      "needs_background": "light"
     },
     "output_type": "display_data"
    }
   ],
   "source": [
    "print('TfidfVect - LOGISTIC REGRESSION MODEL: \\n')\n",
    "tfidf = TfidfVectorizer()\n",
    "\n",
    "X_train_tfidf_base = tfidf.fit_transform(corpus_train1)\n",
    "X_test_tfidf_base = tfidf.transform(corpus_test1)\n",
    "\n",
    "tfidf_lr_base = LogisticRegression()\n",
    "tfidf_lr_base.fit(X_train_tfidf_base,y_train1)\n",
    "\n",
    "y_pred_tfidf_base = tfidf_lr_base.predict(X_test_tfidf_base)\n",
    "\n",
    "print(classification_report(y_test1,y_pred_tfidf_base,target_names=labels))\n",
    "confusion_mat(y_test1,y_pred_tfidf_base,labels)"
   ]
  },
  {
   "cell_type": "markdown",
   "metadata": {},
   "source": [
    "### 3.2 Hyperparameter Tuning"
   ]
  },
  {
   "cell_type": "code",
   "execution_count": 14,
   "metadata": {},
   "outputs": [
    {
     "name": "stdout",
     "output_type": "stream",
     "text": [
      "Fitting 5 folds for each of 8 candidates, totalling 40 fits\n",
      "Best Score:  0.71\n",
      "Best Paramaters:  {'lr__C': 1, 'lr__class_weight': 'balanced', 'lr__penalty': 'l2', 'lr__solver': 'liblinear', 'tfidf__binary': True, 'tfidf__max_df': 0.8, 'tfidf__ngram_range': (1, 1), 'tfidf__stop_words': None}\n"
     ]
    }
   ],
   "source": [
    "# Define pipeline\n",
    "tfidf_lr_pipeline1 = Pipeline([\n",
    "    ('tfidf', TfidfVectorizer()),\n",
    "    ('lr', LogisticRegression())\n",
    "])\n",
    "\n",
    "grid_params1 = {\n",
    "    'tfidf__stop_words': [None],\n",
    "    'tfidf__max_df': [0.8],\n",
    "    'tfidf__ngram_range': [(1,1),(1,2)],\n",
    "    'tfidf__binary': [True],\n",
    "    'lr__C': [0.1,1,10,100],\n",
    "    'lr__solver': ['liblinear'],\n",
    "    'lr__penalty': ['l2'],\n",
    "    'lr__class_weight': ['balanced']\n",
    "}\n",
    "\n",
    "gs_tfidf_lr1 = GridSearchCV(tfidf_lr_pipeline1,param_grid=grid_params1,cv=5,n_jobs=-1,verbose=1,scoring='accuracy')\n",
    "gs_tfidf_lr1.fit(corpus_train1,y_train1)\n",
    "\n",
    "print(\"Best Score: \",gs_tfidf_lr1.best_score_)\n",
    "print(\"Best Paramaters: \",gs_tfidf_lr1.best_params_)"
   ]
  },
  {
   "cell_type": "code",
   "execution_count": 15,
   "metadata": {
    "scrolled": false
   },
   "outputs": [
    {
     "name": "stdout",
     "output_type": "stream",
     "text": [
      "              precision    recall  f1-score   support\n",
      "\n",
      "    Negative       0.60      0.12      0.21        24\n",
      "     Neutral       0.79      0.96      0.87       185\n",
      "    Positive       0.90      0.69      0.78        91\n",
      "\n",
      "    accuracy                           0.81       300\n",
      "   macro avg       0.76      0.59      0.62       300\n",
      "weighted avg       0.81      0.81      0.79       300\n",
      "\n"
     ]
    },
    {
     "data": {
      "image/png": "[encoded data removed]",
      "text/plain": [
       "<Figure size 720x288 with 4 Axes>"
      ]
     },
     "metadata": {
      "needs_background": "light"
     },
     "output_type": "display_data"
    }
   ],
   "source": [
    "# Best TF-IDF/LogReg hyper parameters\n",
    "best_model1 = gs_tfidf_lr1.best_estimator_\n",
    "y_pred_best_model1 = best_model1.predict(corpus_test1)\n",
    "\n",
    "# print(tfidf_gs_best.score(corpus_test, y_test))\n",
    "print(classification_report(y_test1,y_pred_best_model1,target_names=labels))\n",
    "confusion_mat(y_test1,y_pred_best_model1,labels)\n",
    "\n",
    "# cm1 = confusion_matrix(y_test1,y_pred_best_model1,normalize='true')\n",
    "# plt.title(\"Model 1: Normalized Confusion Matrix\")\n",
    "# ax = sns.heatmap(cm1,annot=True,fmt='.2',cmap='Blues',yticklabels=labels,xticklabels=labels)\n",
    "# ax.set(xlabel='Predicted label',ylabel='True label')\n",
    "# # plt.savefig('../images/cm_image1.png')"
   ]
  },
  {
   "cell_type": "markdown",
   "metadata": {},
   "source": [
    "### 3.3 Results"
   ]
  },
  {
   "cell_type": "code",
   "execution_count": 16,
   "metadata": {
    "scrolled": true
   },
   "outputs": [
    {
     "name": "stdout",
     "output_type": "stream",
     "text": [
      "MODEL 1 SUMMARY -- Nested/Restricted Sentiment Model:\n",
      "\n",
      "Null Accuracy (baseline):   0.579\n",
      "Accuracy (test data):   0.813\n",
      "F1 Score (macro):   0.619\n",
      "F1 Score (weighted):   0.789\n",
      "Misclassification Error-Rate:   0.187\n",
      "\n",
      "Model 1's accuracy on the test data is 23.43% better than the theoretical baseline (null accuracy)\n"
     ]
    }
   ],
   "source": [
    "acc1 = accuracy_score(y_test1,y_pred_best_model1)\n",
    "f1_mac1 = f1_score(y_test1,y_pred_best_model1,average='macro')\n",
    "f1_w1 = f1_score(y_test1,y_pred_best_model1,average='weighted')\n",
    "miss1 = 1-acc1\n",
    "base_actual1 = round((acc1-base1)*100,2)\n",
    "\n",
    "print(\"MODEL 1 SUMMARY -- Nested/Restricted Sentiment Model:\\n\")\n",
    "print('Null Accuracy (baseline):  ',base1.round(3))\n",
    "print('Accuracy (test data):  ',acc1.round(3))\n",
    "print('F1 Score (macro):  ',f1_mac1.round(3))\n",
    "print('F1 Score (weighted):  ',f1_w1.round(3))\n",
    "print('Misclassification Error-Rate:  ',miss1.round(3))\n",
    "print(\"\\nModel 1's accuracy on the test data is %0.2f%% better than the theoretical baseline (null accuracy)\"%(base_actual1))"
   ]
  },
  {
   "cell_type": "markdown",
   "metadata": {},
   "source": [
    "<br>\n",
    "\n",
    "***\n",
    "\n",
    "- **Note:** After tuning, Model 1 performed pretty quite well with test accuracy of 73%.\n",
    "    - However, it seems like it has a hard time predicting Negative sentiment.\n",
    "    - In the test set, the model accuractely predicted negative tweets 12%. \n",
    "    - Also, 71% of actual Negative tweets were predicted as Neutral. \n",
    "\n",
    "\n",
    "\n",
    "\n",
    "***\n",
    "\n",
    "- **Questions to think about:** Should there be a separate class for Fact/Announcements and News-related tweets?\n",
    "     - Facts/Announcements/News generally does not convey user sentiment and there is a distinction to tweets that carry Neutral Sentiment.\n",
    "     - The Neutral Sentiment class contained tweets where users either agreed or disagreed with the covid vaccination program. Tweets where users expressed that they may or may not consider vaccination were also marked as Neutral. \n",
    "     \n",
    "***"
   ]
  },
  {
   "cell_type": "markdown",
   "metadata": {},
   "source": [
    "## 4. Model 2: Full Model"
   ]
  },
  {
   "cell_type": "markdown",
   "metadata": {},
   "source": [
    "**Labels: Negative, Neutral, Positive, Fact/Announcements**\n",
    "\n",
    "<br>\n",
    "\n",
    "***\n",
    "- **Note:** Separate class for Fact/Announcements\n",
    "    - Higher-level model than the Model 1\n",
    "    - Model 1 is nested within Model 2\n",
    "    - Generally (but not always), nested/restricted models perform better than its full model. Full models are more complex than the reduced model and have one or more parameters which is, inherently, accompanied by random noise. \n",
    "***"
   ]
  },
  {
   "cell_type": "code",
   "execution_count": 17,
   "metadata": {},
   "outputs": [],
   "source": [
    "# Train/test split\n",
    "X2 = factop1k_cleaned.clean_tweets\n",
    "y2 = factop1k_cleaned.classes2\n",
    "\n",
    "corpus_train2,corpus_test2,y_train2,y_test2 = train_test_split(X2,y2,test_size=0.3,random_state=3)"
   ]
  },
  {
   "cell_type": "markdown",
   "metadata": {},
   "source": [
    "### 4.1 Baseline Accuracy"
   ]
  },
  {
   "cell_type": "code",
   "execution_count": 18,
   "metadata": {},
   "outputs": [
    {
     "name": "stdout",
     "output_type": "stream",
     "text": [
      "Baseline Accuracy = 42.70 %\n"
     ]
    },
    {
     "data": {
      "text/html": [
       "<div>\n",
       "<style scoped>\n",
       "    .dataframe tbody tr th:only-of-type {\n",
       "        vertical-align: middle;\n",
       "    }\n",
       "\n",
       "    .dataframe tbody tr th {\n",
       "        vertical-align: top;\n",
       "    }\n",
       "\n",
       "    .dataframe thead th {\n",
       "        text-align: right;\n",
       "    }\n",
       "</style>\n",
       "<table border=\"1\" class=\"dataframe\">\n",
       "  <thead>\n",
       "    <tr style=\"text-align: right;\">\n",
       "      <th></th>\n",
       "      <th>count</th>\n",
       "      <th>%</th>\n",
       "    </tr>\n",
       "  </thead>\n",
       "  <tbody>\n",
       "    <tr>\n",
       "      <th>3</th>\n",
       "      <td>427</td>\n",
       "      <td>0.427</td>\n",
       "    </tr>\n",
       "    <tr>\n",
       "      <th>2</th>\n",
       "      <td>324</td>\n",
       "      <td>0.324</td>\n",
       "    </tr>\n",
       "    <tr>\n",
       "      <th>1</th>\n",
       "      <td>152</td>\n",
       "      <td>0.152</td>\n",
       "    </tr>\n",
       "    <tr>\n",
       "      <th>0</th>\n",
       "      <td>97</td>\n",
       "      <td>0.097</td>\n",
       "    </tr>\n",
       "  </tbody>\n",
       "</table>\n",
       "</div>"
      ],
      "text/plain": [
       "   count      %\n",
       "3    427  0.427\n",
       "2    324  0.324\n",
       "1    152  0.152\n",
       "0     97  0.097"
      ]
     },
     "execution_count": 18,
     "metadata": {},
     "output_type": "execute_result"
    }
   ],
   "source": [
    "factop1k_counts2 = pd.DataFrame({'count':factop1k_cleaned['classes2'].value_counts(),'%':factop1k_cleaned['classes2'].value_counts(normalize=True)})\n",
    "base2 = factop1k_counts2['%'].max()\n",
    "\n",
    "print(\"Baseline Accuracy = %0.2f %%\"%(base2*100))\n",
    "factop1k_counts2"
   ]
  },
  {
   "cell_type": "code",
   "execution_count": 19,
   "metadata": {},
   "outputs": [
    {
     "data": {
      "image/png": "[encoded data removed]",
      "text/plain": [
       "<Figure size 432x288 with 1 Axes>"
      ]
     },
     "metadata": {
      "needs_background": "light"
     },
     "output_type": "display_data"
    }
   ],
   "source": [
    "xy2 = {'Negative':96, 'Neutral':136,'Positive':327,'F/A':441}\n",
    "plt.bar(xy2.keys(),xy2.values())\n",
    "plt.tight_layout();"
   ]
  },
  {
   "cell_type": "code",
   "execution_count": 20,
   "metadata": {},
   "outputs": [
    {
     "data": {
      "image/png": "[encoded data removed]",
      "text/plain": [
       "<Figure size 720x288 with 2 Axes>"
      ]
     },
     "metadata": {},
     "output_type": "display_data"
    }
   ],
   "source": [
    "xy1_df = pd.DataFrame(xy1.keys(),xy1.values()).reset_index()\n",
    "xy2_df = pd.DataFrame(xy2.keys(),xy2.values()).reset_index()\n",
    "\n",
    "sns.set(style='white')\n",
    "fig, ax = plt.subplots(1,2,figsize=(10,4))\n",
    "sns.barplot(data=xy1_df,x=0,y=\"index\", ax=ax[0])\n",
    "sns.barplot(data=xy2_df,x=0,y=\"index\", ax=ax[1])\n",
    "\n",
    "ax[0].set_xlabel('Model 1 Sentiment Classes')\n",
    "ax[0].set_ylabel('Frequency')\n",
    "ax[1].set_xlabel('Model 2 & 3 Sentiment Classes') \n",
    "ax[1].set(ylabel=None)\n",
    "plt.tight_layout();\n",
    "# plt.savefig('../images/models_classes.png')"
   ]
  },
  {
   "cell_type": "markdown",
   "metadata": {},
   "source": [
    "<br>\n",
    "\n",
    "***\n",
    "- **Note:** By adding a class for Facts/Announcements, the Neutral class size was reduced from 576 to 136.\n",
    "     - 441 were facts/news-related tweets\n",
    "***"
   ]
  },
  {
   "cell_type": "code",
   "execution_count": 21,
   "metadata": {
    "scrolled": false
   },
   "outputs": [
    {
     "name": "stdout",
     "output_type": "stream",
     "text": [
      "TfidfVect - LOGISTIC REGRESSION MODEL:\n",
      "\n",
      "LABELS: Negative, Neutral, Positive, Fact/Announcements\n",
      "\n",
      "              precision    recall  f1-score   support\n",
      "\n",
      "    Negative       0.00      0.00      0.00        24\n",
      "     Neutral       0.75      0.05      0.10        58\n",
      "    Positive       0.70      0.73      0.71        91\n",
      "         F/A       0.60      0.95      0.74       127\n",
      "\n",
      "    accuracy                           0.63       300\n",
      "   macro avg       0.51      0.43      0.39       300\n",
      "weighted avg       0.61      0.63      0.55       300\n",
      "\n"
     ]
    },
    {
     "data": {
      "image/png": "[encoded data removed]",
      "text/plain": [
       "<Figure size 720x288 with 4 Axes>"
      ]
     },
     "metadata": {},
     "output_type": "display_data"
    }
   ],
   "source": [
    "labels2=['Negative','Neutral','Positive','F/A']\n",
    "\n",
    "print('TfidfVect - LOGISTIC REGRESSION MODEL:\\n')\n",
    "print('LABELS: Negative, Neutral, Positive, Fact/Announcements\\n')\n",
    "tfidf2 = TfidfVectorizer()\n",
    "\n",
    "X_train_tfidf_base2 = tfidf2.fit_transform(corpus_train2)\n",
    "X_test_tfidf_base2 = tfidf2.transform(corpus_test2)\n",
    "\n",
    "tfidf_lr_base2 = LogisticRegression()\n",
    "tfidf_lr_base2.fit(X_train_tfidf_base2,y_train2)\n",
    "\n",
    "y_pred_tfidf_base2 = tfidf_lr_base2.predict(X_test_tfidf_base2)\n",
    "\n",
    "print(classification_report(y_test2,y_pred_tfidf_base2,target_names=labels2))\n",
    "confusion_mat(y_test2,y_pred_tfidf_base2,labels2)"
   ]
  },
  {
   "cell_type": "markdown",
   "metadata": {},
   "source": [
    "### 4.2 Hyperparameter Tuning"
   ]
  },
  {
   "cell_type": "code",
   "execution_count": 22,
   "metadata": {},
   "outputs": [
    {
     "name": "stdout",
     "output_type": "stream",
     "text": [
      "Fitting 5 folds for each of 8 candidates, totalling 40 fits\n",
      "Best Score:  0.6114285714285714\n",
      "Best Paramaters:  {'lr__C': 1, 'lr__class_weight': 'balanced', 'lr__solver': 'newton-cg', 'tfidf__binary': True, 'tfidf__max_df': 0.8, 'tfidf__ngram_range': (1, 2), 'tfidf__norm': 'l2', 'tfidf__smooth_idf': True, 'tfidf__stop_words': None, 'tfidf__use_idf': True}\n"
     ]
    }
   ],
   "source": [
    "# Define pipeline\n",
    "pipeline2 = Pipeline([\n",
    "    ('tfidf',TfidfVectorizer()),\n",
    "    ('lr',LogisticRegression())\n",
    "])\n",
    "\n",
    "grid_params2 = {\n",
    "    'tfidf__stop_words': [None],\n",
    "    'tfidf__max_df': [0.8],\n",
    "    'tfidf__ngram_range': [(1,1),(1,2)],\n",
    "    'tfidf__binary': [True],\n",
    "    'tfidf__use_idf': [True],\n",
    "    'tfidf__smooth_idf': [True],\n",
    "    'tfidf__norm': ['l2'],\n",
    "    'lr__C': [0.1,1,10,100],\n",
    "    'lr__solver': ['newton-cg'],\n",
    "    'lr__class_weight': ['balanced']\n",
    "}\n",
    "\n",
    "gs_pipe2 = GridSearchCV(pipeline2,param_grid=grid_params2,cv=5,n_jobs=-1,verbose=1,scoring='accuracy')\n",
    "gs_pipe2.fit(corpus_train2,y_train2)\n",
    "\n",
    "print(\"Best Score: \",gs_pipe2.best_score_)\n",
    "print(\"Best Paramaters: \",gs_pipe2.best_params_)"
   ]
  },
  {
   "cell_type": "code",
   "execution_count": 23,
   "metadata": {},
   "outputs": [
    {
     "name": "stdout",
     "output_type": "stream",
     "text": [
      "              precision    recall  f1-score   support\n",
      "\n",
      "    Negative       0.42      0.33      0.37        24\n",
      "     Neutral       0.63      0.38      0.47        58\n",
      "    Positive       0.69      0.79      0.74        91\n",
      "         F/A       0.77      0.87      0.82       127\n",
      "\n",
      "    accuracy                           0.71       300\n",
      "   macro avg       0.63      0.59      0.60       300\n",
      "weighted avg       0.69      0.71      0.69       300\n",
      "\n"
     ]
    },
    {
     "data": {
      "image/png": "[encoded data removed]",
      "text/plain": [
       "<Figure size 720x288 with 4 Axes>"
      ]
     },
     "metadata": {},
     "output_type": "display_data"
    }
   ],
   "source": [
    "model_best2 = gs_pipe2.best_estimator_\n",
    "y_pred_best2 = model_best2.predict(corpus_test2)\n",
    "\n",
    "# print(model_best2.score(corpus_test2,y_test2))\n",
    "print(classification_report(y_test2,y_pred_best2,target_names=labels2))\n",
    "confusion_mat(y_test2,y_pred_best2,labels2)\n",
    "\n",
    "# cm2 = confusion_matrix(y_test2,y_pred_best2,normalize='true')\n",
    "# plt.title(\"Model 2: Normalized Confusion Matrix\")\n",
    "# ax = sns.heatmap(cm2,annot=True,fmt='.2',cmap='Blues',yticklabels=labels2,xticklabels=labels2)\n",
    "# ax.set(xlabel='Predicted label',ylabel='True label')\n",
    "# # plt.savefig('../images/cm_image2.png')"
   ]
  },
  {
   "cell_type": "markdown",
   "metadata": {},
   "source": [
    "### 4.3 Results"
   ]
  },
  {
   "cell_type": "code",
   "execution_count": 24,
   "metadata": {},
   "outputs": [
    {
     "name": "stdout",
     "output_type": "stream",
     "text": [
      "MODEL 2 SUMMARY -- Full Sentiment Model:\n",
      "\n",
      "Null Accuracy (baseline):   0.427\n",
      "Accuracy (test data):   0.707\n",
      "F1 Score (macro):   0.6\n",
      "F1 Score (weighted):   0.691\n",
      "Misclassification Error-Rate:   0.293\n",
      "\n",
      "Model 2's accuracy on the test data is 27.97% better than the theoretical baseline (null accuracy)\n"
     ]
    }
   ],
   "source": [
    "acc2 = accuracy_score(y_test2,y_pred_best2)\n",
    "f1_mac2 = f1_score(y_test2,y_pred_best2,average='macro')\n",
    "f1_w2 = f1_score(y_test2,y_pred_best2,average='weighted')\n",
    "miss2 = 1-acc2\n",
    "base_actual2 = round((acc2-base2)*100,2)\n",
    "\n",
    "print(\"MODEL 2 SUMMARY -- Full Sentiment Model:\\n\")\n",
    "print('Null Accuracy (baseline):  ',base2.round(3))\n",
    "print('Accuracy (test data):  ',acc2.round(3))\n",
    "print('F1 Score (macro):  ',f1_mac2.round(3))\n",
    "print('F1 Score (weighted):  ',f1_w2.round(3))\n",
    "print('Misclassification Error-Rate:  ',miss2.round(3))\n",
    "print(\"\\nModel 2's accuracy on the test data is %0.2f%% better than the theoretical baseline (null accuracy)\"%(base_actual2))"
   ]
  },
  {
   "cell_type": "markdown",
   "metadata": {},
   "source": [
    "## 5. Model 3: 2-Step Model/Pipeline System"
   ]
  },
  {
   "cell_type": "markdown",
   "metadata": {},
   "source": [
    "***\n",
    "- **Note:** Model 3 is a 2 step pipeline approach.\n",
    "    - In step 1, classify if a tweet is a fact or opinion. \n",
    "    - In step 2, feed the predicted opinions into the sentiment model.\n",
    "***"
   ]
  },
  {
   "cell_type": "markdown",
   "metadata": {},
   "source": [
    "### 5.1 Pipeline (step 1): Subjectivity Classifier"
   ]
  },
  {
   "cell_type": "markdown",
   "metadata": {},
   "source": [
    "**Labels: Fact/Announcements, Opinions**"
   ]
  },
  {
   "cell_type": "code",
   "execution_count": 25,
   "metadata": {
    "scrolled": true
   },
   "outputs": [
    {
     "name": "stdout",
     "output_type": "stream",
     "text": [
      "Baseline Accuracy = 57.30 %\n"
     ]
    },
    {
     "data": {
      "text/html": [
       "<div>\n",
       "<style scoped>\n",
       "    .dataframe tbody tr th:only-of-type {\n",
       "        vertical-align: middle;\n",
       "    }\n",
       "\n",
       "    .dataframe tbody tr th {\n",
       "        vertical-align: top;\n",
       "    }\n",
       "\n",
       "    .dataframe thead th {\n",
       "        text-align: right;\n",
       "    }\n",
       "</style>\n",
       "<table border=\"1\" class=\"dataframe\">\n",
       "  <thead>\n",
       "    <tr style=\"text-align: right;\">\n",
       "      <th></th>\n",
       "      <th>count</th>\n",
       "      <th>%</th>\n",
       "    </tr>\n",
       "  </thead>\n",
       "  <tbody>\n",
       "    <tr>\n",
       "      <th>1</th>\n",
       "      <td>573</td>\n",
       "      <td>0.573</td>\n",
       "    </tr>\n",
       "    <tr>\n",
       "      <th>0</th>\n",
       "      <td>427</td>\n",
       "      <td>0.427</td>\n",
       "    </tr>\n",
       "  </tbody>\n",
       "</table>\n",
       "</div>"
      ],
      "text/plain": [
       "   count      %\n",
       "1    573  0.573\n",
       "0    427  0.427"
      ]
     },
     "execution_count": 25,
     "metadata": {},
     "output_type": "execute_result"
    }
   ],
   "source": [
    "factop1k_counts3 = pd.DataFrame({'count':factop1k_cleaned['classes'].value_counts(),'%':factop1k_cleaned['classes'].value_counts(normalize=True)})\n",
    "base3a = factop1k_counts3['%'].max()\n",
    "\n",
    "print(\"Baseline Accuracy = %0.2f %%\"%(base3a*100))\n",
    "factop1k_counts3"
   ]
  },
  {
   "cell_type": "code",
   "execution_count": 26,
   "metadata": {},
   "outputs": [
    {
     "data": {
      "image/png": "[encoded data removed]",
      "text/plain": [
       "<Figure size 432x288 with 1 Axes>"
      ]
     },
     "metadata": {},
     "output_type": "display_data"
    }
   ],
   "source": [
    "xy3a = {'F/A':442,'Opinion':558}\n",
    "plt.bar(xy3a.keys(),xy3a.values())\n",
    "plt.tight_layout();"
   ]
  },
  {
   "cell_type": "code",
   "execution_count": 27,
   "metadata": {},
   "outputs": [],
   "source": [
    "# Train/test split\n",
    "X3 = factop1k_cleaned.clean_tweets\n",
    "y3 = factop1k_cleaned.classes\n",
    "\n",
    "corpus_train3,corpus_test3,y_train3,y_test3 = train_test_split(X3,y3,test_size=0.3,random_state=3)"
   ]
  },
  {
   "cell_type": "code",
   "execution_count": 28,
   "metadata": {},
   "outputs": [],
   "source": [
    "labels3=['F/A','Opinions']\n",
    "\n",
    "def get_preds(threshold,probabilities):\n",
    "    return [1 if prob>threshold else 0 for prob in probabilities]\n",
    "\n",
    "def plot_roc_auc(y_pred_prob):\n",
    "    roc_values = []\n",
    "    for thresh in np.linspace(0,1,100):\n",
    "        preds = get_preds(thresh,y_pred_prob[:,1])\n",
    "        tn,fp,fn,tp = confusion_matrix(y_test3,preds).ravel()\n",
    "        tpr = tp/(tp+fn)\n",
    "        fpr = fp/(fp+tn)\n",
    "        roc_values.append([tpr,fpr])\n",
    "    tpr_values,fpr_values = zip(*roc_values)\n",
    "    fig,ax = plt.subplots(figsize=(7,5))\n",
    "    ax.plot(fpr_values,tpr_values,color='darkorange',\n",
    "             lw=2,label='ROC curve (area = %0.2f)'%auc(fpr_values,tpr_values))\n",
    "    ax.plot(np.linspace(0,1,100),np.linspace(0,1,100),color='navy',lw=2,linestyle='--')\n",
    "    plt.xlabel('False Positive Rate')\n",
    "    plt.ylabel('True Positive Rate')\n",
    "    plt.title('Receiver operating characteristic')\n",
    "    plt.legend(loc=\"lower right\")\n",
    "    plt.show();"
   ]
  },
  {
   "cell_type": "markdown",
   "metadata": {},
   "source": [
    "### 5.1.1 Algorithms Comparison"
   ]
  },
  {
   "cell_type": "code",
   "execution_count": 29,
   "metadata": {},
   "outputs": [
    {
     "name": "stdout",
     "output_type": "stream",
     "text": [
      "LogisticRegression() Score: 0.807\n",
      "DecisionTreeClassifier() Score: 0.680\n",
      "RandomForestClassifier() Score: 0.757\n",
      "KNeighborsClassifier() Score: 0.690\n",
      "GradientBoostingClassifier() Score: 0.733\n",
      "MultinomialNB() Score: 0.720\n",
      "RidgeClassifier() Score: 0.817\n"
     ]
    }
   ],
   "source": [
    "tfidf3 = TfidfVectorizer()\n",
    "X_train_tfidf_base3 = tfidf3.fit_transform(corpus_train3)\n",
    "X_test_tfidf_base3 = tfidf3.transform(corpus_test3)\n",
    "\n",
    "clfs = [LogisticRegression(),DecisionTreeClassifier(),RandomForestClassifier(),KNeighborsClassifier(),GradientBoostingClassifier(),MultinomialNB(),RidgeClassifier()]\n",
    "clfs_names = ['Logistic Regression','Decision Tree','Random Forest','KNN','Gradient Boosting','Multinomial NB','Ridge']\n",
    "zipped_clfs = zip(clfs_names,clfs)\n",
    "\n",
    "for clf in clfs:\n",
    "    clf.fit(X_train_tfidf_base3,y_train3)\n",
    "    clf_pred = clf.predict(X_test_tfidf_base3)\n",
    "    clf_score = accuracy_score(y_test3,clf_pred)\n",
    "    print(clf,\"Score: %0.3f\"%clf_score)"
   ]
  },
  {
   "cell_type": "markdown",
   "metadata": {},
   "source": [
    "### 5.1.2 Logistic Regression"
   ]
  },
  {
   "cell_type": "code",
   "execution_count": 30,
   "metadata": {
    "scrolled": false
   },
   "outputs": [
    {
     "name": "stdout",
     "output_type": "stream",
     "text": [
      "TfidfVect - LOGISTIC REGRESSION MODEL:\n",
      "\n",
      "              precision    recall  f1-score   support\n",
      "\n",
      "         F/A       0.85      0.66      0.74       127\n",
      "    Opinions       0.79      0.91      0.84       173\n",
      "\n",
      "    accuracy                           0.81       300\n",
      "   macro avg       0.82      0.79      0.79       300\n",
      "weighted avg       0.81      0.81      0.80       300\n",
      "\n"
     ]
    },
    {
     "data": {
      "image/png": "[encoded data removed]",
      "text/plain": [
       "<Figure size 720x288 with 4 Axes>"
      ]
     },
     "metadata": {},
     "output_type": "display_data"
    },
    {
     "name": "stdout",
     "output_type": "stream",
     "text": [
      "ROC-AUC = 0.90\n"
     ]
    },
    {
     "data": {
      "image/png": "[encoded data removed]",
      "text/plain": [
       "<Figure size 504x360 with 1 Axes>"
      ]
     },
     "metadata": {},
     "output_type": "display_data"
    }
   ],
   "source": [
    "print('TfidfVect - LOGISTIC REGRESSION MODEL:\\n')\n",
    "\n",
    "tfidf_lr_base3 = LogisticRegression()\n",
    "tfidf_lr_base3.fit(X_train_tfidf_base3,y_train3)\n",
    "\n",
    "y_pred_tfidf_base3 = tfidf_lr_base3.predict(X_test_tfidf_base3)\n",
    "\n",
    "print(classification_report(y_test3,y_pred_tfidf_base3,target_names=labels3))\n",
    "confusion_mat(y_test3,y_pred_tfidf_base3,labels3)\n",
    "\n",
    "y_pred_prob3 = tfidf_lr_base3.predict_proba(X_test_tfidf_base3)\n",
    "fpr,tpr,thresholds = roc_curve(y_test3,y_pred_prob3[:,1],pos_label=1)\n",
    "roc_auc = auc(fpr,tpr)\n",
    "\n",
    "print(\"ROC-AUC = {:0.2f}\".format(roc_auc))\n",
    "\n",
    "plot_roc_auc(y_pred_prob3)"
   ]
  },
  {
   "cell_type": "code",
   "execution_count": 31,
   "metadata": {},
   "outputs": [
    {
     "name": "stdout",
     "output_type": "stream",
     "text": [
      "Fitting 5 folds for each of 8 candidates, totalling 40 fits\n",
      "Best Score:  0.74\n",
      "Best Paramaters:  {'lr__C': 100, 'lr__solver': 'liblinear', 'tfidf__binary': True, 'tfidf__max_df': 0.8, 'tfidf__ngram_range': (1, 2), 'tfidf__norm': 'l2'}\n"
     ]
    }
   ],
   "source": [
    "# Define pipeline\n",
    "pipeline3a = Pipeline([\n",
    "    ('tfidf',TfidfVectorizer()),\n",
    "    ('lr',LogisticRegression())\n",
    "])\n",
    "\n",
    "grid_params3a = {\n",
    "    'tfidf__max_df': [0.8],\n",
    "    'tfidf__ngram_range': [(1,1),(1,2)],\n",
    "    'tfidf__binary': [True],\n",
    "    'tfidf__norm': ['l2'],\n",
    "    'lr__C': [0.1,1,10,100],\n",
    "    'lr__solver': ['liblinear']\n",
    "}\n",
    "\n",
    "gs_pipe3a = GridSearchCV(pipeline3a,param_grid=grid_params3a,cv=5,n_jobs=-1,verbose=1,scoring='accuracy')\n",
    "gs_pipe3a.fit(corpus_train3,y_train3)\n",
    "\n",
    "print(\"Best Score: \",gs_pipe3a.best_score_)\n",
    "print(\"Best Paramaters: \",gs_pipe3a.best_params_)"
   ]
  },
  {
   "cell_type": "code",
   "execution_count": 32,
   "metadata": {},
   "outputs": [
    {
     "name": "stdout",
     "output_type": "stream",
     "text": [
      "              precision    recall  f1-score   support\n",
      "\n",
      "         F/A       0.83      0.72      0.77       127\n",
      "    Opinions       0.81      0.89      0.85       173\n",
      "\n",
      "    accuracy                           0.82       300\n",
      "   macro avg       0.82      0.80      0.81       300\n",
      "weighted avg       0.82      0.82      0.81       300\n",
      "\n"
     ]
    },
    {
     "data": {
      "image/png": "[encoded data removed]",
      "text/plain": [
       "<Figure size 720x288 with 4 Axes>"
      ]
     },
     "metadata": {},
     "output_type": "display_data"
    },
    {
     "name": "stdout",
     "output_type": "stream",
     "text": [
      "ROC-AUC = 0.90\n"
     ]
    },
    {
     "data": {
      "image/png": "[encoded data removed]",
      "text/plain": [
       "<Figure size 504x360 with 1 Axes>"
      ]
     },
     "metadata": {},
     "output_type": "display_data"
    }
   ],
   "source": [
    "model_best3a = gs_pipe3a.best_estimator_\n",
    "y_pred_best3a = model_best3a.predict(corpus_test3)\n",
    "\n",
    "# print(model_best2.score(corpus_test2,y_test2))\n",
    "print(classification_report(y_test3,y_pred_best3a,target_names=labels3))\n",
    "confusion_mat(y_test3,y_pred_best3a,labels3)\n",
    "\n",
    "ypredprob_best3a = model_best3a.predict_proba(corpus_test3)\n",
    "fpr,tpr,thresholds = roc_curve(y_test3,ypredprob_best3a[:,1],pos_label=1)\n",
    "roc_auc = auc(fpr,tpr)\n",
    "\n",
    "print(\"ROC-AUC = {:0.2f}\".format(roc_auc))\n",
    "\n",
    "plot_roc_auc(ypredprob_best3a)"
   ]
  },
  {
   "cell_type": "code",
   "execution_count": 33,
   "metadata": {},
   "outputs": [
    {
     "name": "stdout",
     "output_type": "stream",
     "text": [
      "MODEL 3A SUMMARY -- LOGISTIC REGRESSION:\n",
      "\n",
      "Null Accuracy (baseline):   0.573\n",
      "Accuracy (test data):   0.817\n",
      "F1 Score (macro):   0.808\n",
      "F1 Score (weighted):   0.814\n",
      "Misclassification Error-Rate:   0.183\n",
      "\n",
      "Model 3a's accuracy on the test data is 24.37% better than the theoretical baseline (null accuracy)\n"
     ]
    }
   ],
   "source": [
    "acc3a1 = accuracy_score(y_test3,y_pred_best3a)\n",
    "f1_mac3a1 = f1_score(y_test3,y_pred_best3a,average='macro')\n",
    "f1_w3a1 = f1_score(y_test3,y_pred_best3a,average='weighted')\n",
    "miss3a1 = 1-acc3a1\n",
    "base_actual3a1 = round((acc3a1-base3a)*100,2)\n",
    "\n",
    "print(\"MODEL 3A SUMMARY -- LOGISTIC REGRESSION:\\n\")\n",
    "print('Null Accuracy (baseline):  ',base3a.round(3))\n",
    "print('Accuracy (test data):  ',acc3a1.round(3))\n",
    "print('F1 Score (macro):  ',f1_mac3a1.round(3))\n",
    "print('F1 Score (weighted):  ',f1_w3a1.round(3))\n",
    "print('Misclassification Error-Rate:  ',miss3a1.round(3))\n",
    "print(\"\\nModel 3a's accuracy on the test data is %0.2f%% better than the theoretical baseline (null accuracy)\"%(base_actual3a1))"
   ]
  },
  {
   "cell_type": "markdown",
   "metadata": {},
   "source": [
    "### 5.1.3 Ridge Classifier"
   ]
  },
  {
   "cell_type": "code",
   "execution_count": 34,
   "metadata": {
    "scrolled": false
   },
   "outputs": [
    {
     "name": "stdout",
     "output_type": "stream",
     "text": [
      "TfidfVect - RIDGE CLASSIFIER:\n",
      "\n",
      "TEST-ACCURACY: 0.82\n"
     ]
    }
   ],
   "source": [
    "print('TfidfVect - RIDGE CLASSIFIER:\\n')\n",
    "tfidf3 = TfidfVectorizer()\n",
    "\n",
    "X_train_tfidf_base3 = tfidf3.fit_transform(corpus_train3)\n",
    "X_test_tfidf_base3 = tfidf3.transform(corpus_test3)\n",
    "\n",
    "tfidf_ridge = RidgeClassifier()\n",
    "tfidf_ridge.fit(X_train_tfidf_base3,y_train3)\n",
    "\n",
    "y_pred_tfidf_base3 = tfidf_ridge.predict(X_test_tfidf_base3)\n",
    "\n",
    "print('TEST-ACCURACY: {:.2f}'.format(accuracy_score(y_test3,y_pred_tfidf_base3)))\n",
    "\n",
    "# print(classification_report(y_test3, y_pred_tfidf_base3, target_names=labels3))\n",
    "# confusion_mat(y_test3, y_pred_tfidf_base3, labels3)"
   ]
  },
  {
   "cell_type": "code",
   "execution_count": 35,
   "metadata": {},
   "outputs": [
    {
     "name": "stdout",
     "output_type": "stream",
     "text": [
      "Fitting 5 folds for each of 16 candidates, totalling 80 fits\n",
      "Best Score:  0.74\n",
      "Best Paramaters:  {'ridge__alpha': 0.1, 'tfidf__binary': True, 'tfidf__max_df': 0.8, 'tfidf__ngram_range': (1, 2), 'tfidf__norm': 'l2', 'tfidf__smooth_idf': True, 'tfidf__stop_words': None, 'tfidf__use_idf': True}\n"
     ]
    }
   ],
   "source": [
    "# Define pipeline\n",
    "pipeline3b = Pipeline([\n",
    "    ('tfidf',TfidfVectorizer()),\n",
    "    ('ridge',RidgeClassifier())\n",
    "])\n",
    "\n",
    "grid_params3b = {\n",
    "    'tfidf__stop_words': [None],\n",
    "    'tfidf__max_df': [0.8],\n",
    "    'tfidf__ngram_range': [(1,1),(1,2)],\n",
    "    'tfidf__binary': [True],\n",
    "    'tfidf__use_idf': [True],\n",
    "    'tfidf__smooth_idf': [True],\n",
    "    'tfidf__norm': ['l2','l1'],\n",
    "    'ridge__alpha': [0.001,0.01,0.1,1]\n",
    "}\n",
    "\n",
    "gs_pipe3b = GridSearchCV(pipeline3b,param_grid=grid_params3b,cv=5,n_jobs=-1,verbose=1,scoring='accuracy')\n",
    "gs_pipe3b.fit(corpus_train3,y_train3)\n",
    "\n",
    "print(\"Best Score: \",gs_pipe3b.best_score_)\n",
    "print(\"Best Paramaters: \",gs_pipe3b.best_params_)"
   ]
  },
  {
   "cell_type": "code",
   "execution_count": 36,
   "metadata": {
    "scrolled": false
   },
   "outputs": [
    {
     "name": "stdout",
     "output_type": "stream",
     "text": [
      "              precision    recall  f1-score   support\n",
      "\n",
      "         F/A       0.81      0.75      0.78       127\n",
      "    Opinions       0.83      0.87      0.85       173\n",
      "\n",
      "    accuracy                           0.82       300\n",
      "   macro avg       0.82      0.81      0.81       300\n",
      "weighted avg       0.82      0.82      0.82       300\n",
      "\n"
     ]
    },
    {
     "data": {
      "image/png": "[encoded data removed]",
      "text/plain": [
       "<Figure size 720x288 with 4 Axes>"
      ]
     },
     "metadata": {},
     "output_type": "display_data"
    }
   ],
   "source": [
    "model_best3b = gs_pipe3b.best_estimator_\n",
    "y_pred_best3b = model_best3b.predict(corpus_test3)\n",
    "\n",
    "# print(model_best2.score(corpus_test2, y_test2))\n",
    "print(classification_report(y_test3,y_pred_best3b,target_names=labels3))\n",
    "confusion_mat(y_test3,y_pred_best3b,labels3)"
   ]
  },
  {
   "cell_type": "code",
   "execution_count": 37,
   "metadata": {},
   "outputs": [
    {
     "name": "stdout",
     "output_type": "stream",
     "text": [
      "MODEL 3A SUMMARY -- RIDGE CLASSIFIER:\n",
      "\n",
      "Null Accuracy (baseline):   0.573\n",
      "Accuracy (test data):   0.82\n",
      "F1 Score (macro):   0.814\n",
      "F1 Score (weighted):   0.819\n",
      "Misclassification Error-Rate:   0.18\n",
      "\n",
      "Model 3a's accuracy on the test data is 24.70% better than the theoretical baseline  (null accuracy)\n"
     ]
    }
   ],
   "source": [
    "acc3a2 = accuracy_score(y_test3,y_pred_best3b)\n",
    "f1_mac3a2 = f1_score(y_test3,y_pred_best3b,average='macro')\n",
    "f1_w3a2 = f1_score(y_test3,y_pred_best3b,average='weighted')\n",
    "miss3a2 = 1-acc3a2\n",
    "base_actual3a2 = round((acc3a2-base3a)*100,2)\n",
    "\n",
    "print(\"MODEL 3A SUMMARY -- RIDGE CLASSIFIER:\\n\")\n",
    "print('Null Accuracy (baseline):  ',base3a.round(3))\n",
    "print('Accuracy (test data):  ',acc3a2.round(3))\n",
    "print('F1 Score (macro):  ',f1_mac3a2.round(3))\n",
    "print('F1 Score (weighted):  ',f1_w3a2.round(3))\n",
    "print('Misclassification Error-Rate:  ',miss3a2.round(3))\n",
    "print(\"\\nModel 3a's accuracy on the test data is %0.2f%% better than the theoretical baseline  (null accuracy)\"%(base_actual3a2))"
   ]
  },
  {
   "cell_type": "markdown",
   "metadata": {},
   "source": [
    "### 5.1.4 Ensemble - Voting Classifier"
   ]
  },
  {
   "cell_type": "code",
   "execution_count": 38,
   "metadata": {},
   "outputs": [
    {
     "name": "stdout",
     "output_type": "stream",
     "text": [
      "TfidfVect - VOTING CLASSIFIER:\n",
      "\n",
      "TEST-ACCURACY: 0.82\n"
     ]
    }
   ],
   "source": [
    "print('TfidfVect - VOTING CLASSIFIER:\\n')\n",
    "\n",
    "tfidf4 = TfidfVectorizer(max_df=0.8,ngram_range=(1,2),binary=True,norm='l2',smooth_idf=True,use_idf=True)\n",
    "X_train_tfidf_base4 = tfidf.fit_transform(corpus_train3)\n",
    "X_test_tfidf_base4 = tfidf.transform(corpus_test3)\n",
    "\n",
    "clf_lr = LogisticRegression()\n",
    "clf_dt = DecisionTreeClassifier(random_state=7)\n",
    "clf_svm = SVC(random_state=7)\n",
    "\n",
    "vestimators = [('lr',clf_lr), \n",
    "              ('dt',clf_dt), \n",
    "              ('svm',clf_svm)]\n",
    "\n",
    "vclf = VotingClassifier(estimators=vestimators,voting='hard')\n",
    "vclf.fit(X_train_tfidf_base4,y_train3)\n",
    "vclf_pred = vclf.predict(X_test_tfidf_base4)\n",
    "\n",
    "# Evaluate model performance\n",
    "vclf_acc = accuracy_score(y_test3,vclf_pred)\n",
    "print('TEST-ACCURACY: {:.2f}'.format(vclf_acc))"
   ]
  },
  {
   "cell_type": "code",
   "execution_count": 39,
   "metadata": {},
   "outputs": [
    {
     "name": "stdout",
     "output_type": "stream",
     "text": [
      "Fitting 5 folds for each of 4 candidates, totalling 20 fits\n",
      "Best Score:  0.7696444251148455\n",
      "Best Paramaters:  {'dt__min_samples_leaf': 3, 'dt__min_samples_split': 15, 'lr__C': 0.01, 'lr__class_weight': 'balanced', 'svm__class_weight': 'balanced', 'svm__probability': True}\n"
     ]
    }
   ],
   "source": [
    "vparams = {'lr__C': [0.01,0.1,1,100],\n",
    "          'lr__class_weight': ['balanced'],\n",
    "          'dt__min_samples_leaf': [3],\n",
    "          'dt__min_samples_split': [15],\n",
    "          'svm__probability': [True],\n",
    "          'svm__class_weight': ['balanced']}\n",
    "\n",
    "vgrid = GridSearchCV(vclf,param_grid=vparams,cv=5,n_jobs=-1,verbose=1,scoring='precision')\n",
    "vgrid.fit(X_train_tfidf_base4,y_train3)\n",
    "\n",
    "print(\"Best Score: \",vgrid.best_score_)\n",
    "print(\"Best Paramaters: \",vgrid.best_params_)"
   ]
  },
  {
   "cell_type": "code",
   "execution_count": 40,
   "metadata": {
    "scrolled": false
   },
   "outputs": [
    {
     "name": "stdout",
     "output_type": "stream",
     "text": [
      "              precision    recall  f1-score   support\n",
      "\n",
      "         F/A       0.77      0.89      0.83       127\n",
      "    Opinions       0.91      0.81      0.86       173\n",
      "\n",
      "    accuracy                           0.84       300\n",
      "   macro avg       0.84      0.85      0.84       300\n",
      "weighted avg       0.85      0.84      0.84       300\n",
      "\n"
     ]
    },
    {
     "data": {
      "image/png": "[encoded data removed]",
      "text/plain": [
       "<Figure size 720x288 with 4 Axes>"
      ]
     },
     "metadata": {},
     "output_type": "display_data"
    }
   ],
   "source": [
    "vmodel_best3c = vgrid.best_estimator_\n",
    "vclf_pred = vmodel_best3c.predict(X_test_tfidf_base4)\n",
    "\n",
    "# print(model_best2.score(corpus_test2,y_test2))\n",
    "print(classification_report(y_test3,vclf_pred,target_names=labels3))\n",
    "confusion_mat(y_test3,vclf_pred,labels3)"
   ]
  },
  {
   "cell_type": "code",
   "execution_count": 41,
   "metadata": {},
   "outputs": [
    {
     "name": "stdout",
     "output_type": "stream",
     "text": [
      "MODEL 3A SUMMARY -- VOTING CLASSIFIER:\n",
      "\n",
      "Null Accuracy (baseline):   0.573\n",
      "Accuracy (test data):   0.843\n",
      "F1 Score (macro):   0.842\n",
      "F1 Score (weighted):   0.844\n",
      "Misclassification Error-Rate:   0.157\n",
      "\n",
      "Model 3a's accuracy on the test data is 27.03% better than the theoretical baseline  (null accuracy)\n"
     ]
    }
   ],
   "source": [
    "acc3b = accuracy_score(y_test3,vclf_pred)\n",
    "f1_mac3b = f1_score(y_test3,vclf_pred,average='macro')\n",
    "f1_w3b = f1_score(y_test3,vclf_pred,average='weighted')\n",
    "miss3b = 1-acc3b\n",
    "base_actual3b = round((acc3b-base3a)*100,2)\n",
    "\n",
    "print(\"MODEL 3A SUMMARY -- VOTING CLASSIFIER:\\n\")\n",
    "print('Null Accuracy (baseline):  ',base3a.round(3))\n",
    "print('Accuracy (test data):  ',acc3b.round(3))\n",
    "print('F1 Score (macro):  ',f1_mac3b.round(3))\n",
    "print('F1 Score (weighted):  ',f1_w3b.round(3))\n",
    "print('Misclassification Error-Rate:  ',miss3b.round(3))\n",
    "print(\"\\nModel 3a's accuracy on the test data is %0.2f%% better than the theoretical baseline  (null accuracy)\"%(base_actual3b))"
   ]
  },
  {
   "cell_type": "markdown",
   "metadata": {},
   "source": [
    "### 5.1.5 Results"
   ]
  },
  {
   "cell_type": "code",
   "execution_count": 42,
   "metadata": {},
   "outputs": [
    {
     "data": {
      "text/html": [
       "<style type=\"text/css\">\n",
       "#T_9ad5c_row2_col0, #T_9ad5c_row2_col1, #T_9ad5c_row2_col2, #T_9ad5c_row2_col3 {\n",
       "  background-color: yellow;\n",
       "}\n",
       "</style>\n",
       "<table id=\"T_9ad5c_\">\n",
       "  <thead>\n",
       "    <tr>\n",
       "      <th class=\"blank level0\" >&nbsp;</th>\n",
       "      <th class=\"col_heading level0 col0\" >Test Acc.</th>\n",
       "      <th class=\"col_heading level0 col1\" >F1 (macro)</th>\n",
       "      <th class=\"col_heading level0 col2\" >F1 (weighted)</th>\n",
       "      <th class=\"col_heading level0 col3\" >Error-Rate</th>\n",
       "    </tr>\n",
       "    <tr>\n",
       "      <th class=\"index_name level0\" >(Step 1) Subjectivity Classifier Algorithm</th>\n",
       "      <th class=\"blank col0\" >&nbsp;</th>\n",
       "      <th class=\"blank col1\" >&nbsp;</th>\n",
       "      <th class=\"blank col2\" >&nbsp;</th>\n",
       "      <th class=\"blank col3\" >&nbsp;</th>\n",
       "    </tr>\n",
       "  </thead>\n",
       "  <tbody>\n",
       "    <tr>\n",
       "      <th id=\"T_9ad5c_level0_row0\" class=\"row_heading level0 row0\" >Logistic Regression</th>\n",
       "      <td id=\"T_9ad5c_row0_col0\" class=\"data row0 col0\" >0.817</td>\n",
       "      <td id=\"T_9ad5c_row0_col1\" class=\"data row0 col1\" >0.808</td>\n",
       "      <td id=\"T_9ad5c_row0_col2\" class=\"data row0 col2\" >0.814</td>\n",
       "      <td id=\"T_9ad5c_row0_col3\" class=\"data row0 col3\" >0.183</td>\n",
       "    </tr>\n",
       "    <tr>\n",
       "      <th id=\"T_9ad5c_level0_row1\" class=\"row_heading level0 row1\" >Ridge Classifier</th>\n",
       "      <td id=\"T_9ad5c_row1_col0\" class=\"data row1 col0\" >0.820</td>\n",
       "      <td id=\"T_9ad5c_row1_col1\" class=\"data row1 col1\" >0.814</td>\n",
       "      <td id=\"T_9ad5c_row1_col2\" class=\"data row1 col2\" >0.819</td>\n",
       "      <td id=\"T_9ad5c_row1_col3\" class=\"data row1 col3\" >0.180</td>\n",
       "    </tr>\n",
       "    <tr>\n",
       "      <th id=\"T_9ad5c_level0_row2\" class=\"row_heading level0 row2\" >Voting Ensemble</th>\n",
       "      <td id=\"T_9ad5c_row2_col0\" class=\"data row2 col0\" >0.843</td>\n",
       "      <td id=\"T_9ad5c_row2_col1\" class=\"data row2 col1\" >0.842</td>\n",
       "      <td id=\"T_9ad5c_row2_col2\" class=\"data row2 col2\" >0.844</td>\n",
       "      <td id=\"T_9ad5c_row2_col3\" class=\"data row2 col3\" >0.157</td>\n",
       "    </tr>\n",
       "  </tbody>\n",
       "</table>\n"
      ],
      "text/plain": [
       "<pandas.io.formats.style.Styler at 0x7f8b1c1482e0>"
      ]
     },
     "execution_count": 42,
     "metadata": {},
     "output_type": "execute_result"
    }
   ],
   "source": [
    "evals_step1 = pd.DataFrame({'(Step 1) Subjectivity Classifier Algorithm':['Logistic Regression','Ridge Classifier','Voting Ensemble'],\n",
    "                            'Test Acc.':[acc3a1,acc3a2,acc3b],\n",
    "                            'F1 (macro)':[f1_mac3a1,f1_mac3a2,f1_mac3b],\n",
    "                            'F1 (weighted)':[f1_w3a1,f1_w3a2,f1_w3b],\n",
    "                            'Error-Rate':[miss3a1,miss3a2,miss3b]}).set_index(['(Step 1) Subjectivity Classifier Algorithm'])\n",
    "\n",
    "subsets = pd.IndexSlice[('Voting Ensemble'),evals_step1.columns[:]]\n",
    "ev1 = evals_step1.style.format(precision=3).applymap(lambda x:\"background-color:yellow\",subset=subsets)\n",
    "# dfi.export(ev1,'../images/evals_step1.png')\n",
    "ev1"
   ]
  },
  {
   "cell_type": "markdown",
   "metadata": {},
   "source": [
    "### 5.2 Pipeline (step 2): Sentiment Classifier"
   ]
  },
  {
   "cell_type": "markdown",
   "metadata": {},
   "source": [
    "**Labels: Negative, Neutral, Positive**\n",
    "\n",
    "<br>\n",
    "\n",
    "***\n",
    "- **Note:** In part 2 of the pipeline, I am now going to take the tweets that were classified as 'Opinions' using the Voting Ensemble of the Subjectivity Classifier and feed them into the Sentiment Model.\n",
    "***"
   ]
  },
  {
   "cell_type": "code",
   "execution_count": 43,
   "metadata": {},
   "outputs": [
    {
     "data": {
      "text/html": [
       "<div>\n",
       "<style scoped>\n",
       "    .dataframe tbody tr th:only-of-type {\n",
       "        vertical-align: middle;\n",
       "    }\n",
       "\n",
       "    .dataframe tbody tr th {\n",
       "        vertical-align: top;\n",
       "    }\n",
       "\n",
       "    .dataframe thead th {\n",
       "        text-align: right;\n",
       "    }\n",
       "</style>\n",
       "<table border=\"1\" class=\"dataframe\">\n",
       "  <thead>\n",
       "    <tr style=\"text-align: right;\">\n",
       "      <th></th>\n",
       "      <th>test original</th>\n",
       "      <th>test original %</th>\n",
       "      <th>test filtered</th>\n",
       "      <th>test filtered %</th>\n",
       "    </tr>\n",
       "  </thead>\n",
       "  <tbody>\n",
       "    <tr>\n",
       "      <th>Neutral</th>\n",
       "      <td>185</td>\n",
       "      <td>0.616667</td>\n",
       "      <td>61</td>\n",
       "      <td>0.396104</td>\n",
       "    </tr>\n",
       "    <tr>\n",
       "      <th>Positive</th>\n",
       "      <td>91</td>\n",
       "      <td>0.303333</td>\n",
       "      <td>78</td>\n",
       "      <td>0.506494</td>\n",
       "    </tr>\n",
       "    <tr>\n",
       "      <th>Negative</th>\n",
       "      <td>24</td>\n",
       "      <td>0.080000</td>\n",
       "      <td>15</td>\n",
       "      <td>0.097403</td>\n",
       "    </tr>\n",
       "  </tbody>\n",
       "</table>\n",
       "</div>"
      ],
      "text/plain": [
       "          test original  test original %  test filtered  test filtered %\n",
       "Neutral             185         0.616667             61         0.396104\n",
       "Positive             91         0.303333             78         0.506494\n",
       "Negative             24         0.080000             15         0.097403"
      ]
     },
     "execution_count": 43,
     "metadata": {},
     "output_type": "execute_result"
    }
   ],
   "source": [
    "corpus_test1b = pd.DataFrame(corpus_test1)\n",
    "testing = pd.DataFrame([corpus_test1,y_test1]).T\n",
    "\n",
    "pred2 = pd.DataFrame({'clean_tweets':corpus_test3.values,'labels':vclf_pred})\n",
    "pred2 = pred2[pred2.labels==1]\n",
    "pred3 = corpus_test1b[corpus_test1b.clean_tweets.isin(pred2.clean_tweets)]\n",
    "pred4 = testing[testing.index.isin(pred3.index)]\n",
    "pred4['classes2'] = pd.to_numeric(pred4['classes2'])\n",
    "\n",
    "test_counts1 = pd.DataFrame({'test filtered':pred4['classes2'].value_counts(),'test filtered %':pred4['classes2'].value_counts(normalize=True)})\n",
    "test_counts2 = pd.DataFrame({'test original':y_test1.value_counts(),'test original %':y_test1.value_counts(normalize=True)})\n",
    "test_counts3 = test_counts2.join(test_counts1,how='left')\n",
    "test_counts3.index = ['Neutral','Positive','Negative']\n",
    "\n",
    "base3b = test_counts3['test filtered %'].max()\n",
    "# print(\"Baseline Accuracy = %0.2f %%\"%(base3b*100))\n",
    "test_counts3 "
   ]
  },
  {
   "cell_type": "code",
   "execution_count": 44,
   "metadata": {},
   "outputs": [
    {
     "data": {
      "image/png": "[encoded data removed]",
      "text/plain": [
       "<Figure size 432x288 with 1 Axes>"
      ]
     },
     "metadata": {},
     "output_type": "display_data"
    }
   ],
   "source": [
    "test_counts33 = test_counts3.reset_index()\n",
    "test_counts33.plot(x='index',y=['test original','test filtered'],kind='bar').set(xlabel=None)\n",
    "plt.xticks(rotation=0)\n",
    "plt.tight_layout();"
   ]
  },
  {
   "cell_type": "code",
   "execution_count": 45,
   "metadata": {
    "scrolled": false
   },
   "outputs": [
    {
     "name": "stdout",
     "output_type": "stream",
     "text": [
      "Fitting 5 folds for each of 16 candidates, totalling 80 fits\n",
      "Best Score:  0.7114285714285715\n",
      "Best Paramaters:  {'lr__C': 1, 'lr__class_weight': 'balanced', 'lr__penalty': 'l2', 'lr__solver': 'liblinear', 'tfidf__binary': True, 'tfidf__max_df': 0.8, 'tfidf__ngram_range': (1, 1), 'tfidf__smooth_idf': False, 'tfidf__use_idf': True}\n"
     ]
    }
   ],
   "source": [
    "# Define pipeline\n",
    "tfidf_lr_pipeline1a = Pipeline([\n",
    "    ('tfidf',TfidfVectorizer()),\n",
    "    ('lr',LogisticRegression())\n",
    "])\n",
    "\n",
    "grid_params1a = {\n",
    "    'tfidf__max_df': [0.8],\n",
    "    'tfidf__ngram_range': [(1,1),(1,2)],\n",
    "    'tfidf__binary': [True],\n",
    "    'tfidf__use_idf': [True],\n",
    "    'tfidf__smooth_idf': [False,True],\n",
    "    'lr__C': [0.1,1,10,100],\n",
    "    'lr__solver': ['liblinear'],\n",
    "    'lr__penalty': ['l2'],\n",
    "    'lr__class_weight': ['balanced']\n",
    "}\n",
    "\n",
    "gs_tfidf_lr1a = GridSearchCV(tfidf_lr_pipeline1a,param_grid=grid_params1a,cv=5,n_jobs=-1,verbose=1)\n",
    "gs_tfidf_lr1a.fit(corpus_train1,y_train1)\n",
    "\n",
    "print(\"Best Score: \",gs_tfidf_lr1a.best_score_)\n",
    "print(\"Best Paramaters: \",gs_tfidf_lr1a.best_params_)"
   ]
  },
  {
   "cell_type": "code",
   "execution_count": 46,
   "metadata": {
    "scrolled": false
   },
   "outputs": [
    {
     "name": "stdout",
     "output_type": "stream",
     "text": [
      "              precision    recall  f1-score   support\n",
      "\n",
      "    Negative       0.60      0.20      0.30        15\n",
      "     Neutral       0.69      0.92      0.79        61\n",
      "    Positive       0.93      0.81      0.86        78\n",
      "\n",
      "    accuracy                           0.79       154\n",
      "   macro avg       0.74      0.64      0.65       154\n",
      "weighted avg       0.80      0.79      0.78       154\n",
      "\n"
     ]
    },
    {
     "data": {
      "image/png": "[encoded data removed]",
      "text/plain": [
       "<Figure size 720x288 with 4 Axes>"
      ]
     },
     "metadata": {},
     "output_type": "display_data"
    }
   ],
   "source": [
    "# Best TF-IDF/LogReg hyper parameters\n",
    "best_model1a = gs_tfidf_lr1a.best_estimator_\n",
    "y_pred_best_model1c = best_model1a.predict(pred4.clean_tweets)\n",
    "\n",
    "# print(tfidf_gs_best.score(corpus_test, y_test))\n",
    "print(classification_report(pred4.classes2,y_pred_best_model1c,target_names=labels))\n",
    "confusion_mat(pred4.classes2,y_pred_best_model1c,labels)"
   ]
  },
  {
   "cell_type": "markdown",
   "metadata": {},
   "source": [
    "### 5.3 Full System Summary (step 1 & step 2)"
   ]
  },
  {
   "cell_type": "markdown",
   "metadata": {},
   "source": [
    "### 5.3.1 Aggregating Metrics "
   ]
  },
  {
   "cell_type": "code",
   "execution_count": 47,
   "metadata": {},
   "outputs": [
    {
     "data": {
      "text/html": [
       "<div>\n",
       "<style scoped>\n",
       "    .dataframe tbody tr th:only-of-type {\n",
       "        vertical-align: middle;\n",
       "    }\n",
       "\n",
       "    .dataframe tbody tr th {\n",
       "        vertical-align: top;\n",
       "    }\n",
       "\n",
       "    .dataframe thead th {\n",
       "        text-align: right;\n",
       "    }\n",
       "</style>\n",
       "<table border=\"1\" class=\"dataframe\">\n",
       "  <thead>\n",
       "    <tr style=\"text-align: right;\">\n",
       "      <th></th>\n",
       "      <th>clean_tweets</th>\n",
       "      <th>true y</th>\n",
       "      <th>model 2: yhat</th>\n",
       "      <th>model 3: yhat</th>\n",
       "    </tr>\n",
       "  </thead>\n",
       "  <tbody>\n",
       "    <tr>\n",
       "      <th>109</th>\n",
       "      <td>indiana kentucky are neck neck covidvaccine</td>\n",
       "      <td>1</td>\n",
       "      <td>0</td>\n",
       "      <td>3</td>\n",
       "    </tr>\n",
       "    <tr>\n",
       "      <th>859</th>\n",
       "      <td>facial swelling occurred in patient at the sit...</td>\n",
       "      <td>3</td>\n",
       "      <td>3</td>\n",
       "      <td>3</td>\n",
       "    </tr>\n",
       "    <tr>\n",
       "      <th>796</th>\n",
       "      <td>there are no american tank on baghdad the eu i...</td>\n",
       "      <td>3</td>\n",
       "      <td>1</td>\n",
       "      <td>3</td>\n",
       "    </tr>\n",
       "    <tr>\n",
       "      <th>349</th>\n",
       "      <td>you can forget about your covidvaccine sa roll...</td>\n",
       "      <td>0</td>\n",
       "      <td>1</td>\n",
       "      <td>3</td>\n",
       "    </tr>\n",
       "    <tr>\n",
       "      <th>303</th>\n",
       "      <td>my dad ha just made an appointment for his fir...</td>\n",
       "      <td>2</td>\n",
       "      <td>2</td>\n",
       "      <td>2</td>\n",
       "    </tr>\n",
       "    <tr>\n",
       "      <th>762</th>\n",
       "      <td>gopcomplicittraitors covidvaccine bbcnews gopd...</td>\n",
       "      <td>0</td>\n",
       "      <td>2</td>\n",
       "      <td>1</td>\n",
       "    </tr>\n",
       "    <tr>\n",
       "      <th>385</th>\n",
       "      <td>by liberallogic we should ban the vaccine righ...</td>\n",
       "      <td>1</td>\n",
       "      <td>1</td>\n",
       "      <td>1</td>\n",
       "    </tr>\n",
       "    <tr>\n",
       "      <th>905</th>\n",
       "      <td>covidvaccine you are so entitled i hope you ra...</td>\n",
       "      <td>1</td>\n",
       "      <td>2</td>\n",
       "      <td>1</td>\n",
       "    </tr>\n",
       "    <tr>\n",
       "      <th>890</th>\n",
       "      <td>all done covidvaccine thanksnhs</td>\n",
       "      <td>2</td>\n",
       "      <td>2</td>\n",
       "      <td>2</td>\n",
       "    </tr>\n",
       "    <tr>\n",
       "      <th>39</th>\n",
       "      <td>you cannot catch coronavirus from the covidvac...</td>\n",
       "      <td>1</td>\n",
       "      <td>0</td>\n",
       "      <td>1</td>\n",
       "    </tr>\n",
       "  </tbody>\n",
       "</table>\n",
       "</div>"
      ],
      "text/plain": [
       "                                          clean_tweets  true y  model 2: yhat  \\\n",
       "109        indiana kentucky are neck neck covidvaccine       1              0   \n",
       "859  facial swelling occurred in patient at the sit...       3              3   \n",
       "796  there are no american tank on baghdad the eu i...       3              1   \n",
       "349  you can forget about your covidvaccine sa roll...       0              1   \n",
       "303  my dad ha just made an appointment for his fir...       2              2   \n",
       "762  gopcomplicittraitors covidvaccine bbcnews gopd...       0              2   \n",
       "385  by liberallogic we should ban the vaccine righ...       1              1   \n",
       "905  covidvaccine you are so entitled i hope you ra...       1              2   \n",
       "890                    all done covidvaccine thanksnhs       2              2   \n",
       "39   you cannot catch coronavirus from the covidvac...       1              0   \n",
       "\n",
       "     model 3: yhat  \n",
       "109              3  \n",
       "859              3  \n",
       "796              3  \n",
       "349              3  \n",
       "303              2  \n",
       "762              1  \n",
       "385              1  \n",
       "905              1  \n",
       "890              2  \n",
       "39               1  "
      ]
     },
     "execution_count": 47,
     "metadata": {},
     "output_type": "execute_result"
    }
   ],
   "source": [
    "# model 2\n",
    "df_model2 = pd.DataFrame([corpus_test2,y_test2]).T\n",
    "df_model2.insert(2,'model2',y_pred_best2)\n",
    "# model 3a\n",
    "df_model3a = pd.DataFrame([corpus_test3,y_test3]).T\n",
    "df_model3a.insert(2,'model3a',vclf_pred)\n",
    "# model 3b\n",
    "df_model3b = pd.DataFrame([pred4.clean_tweets,pred4.classes2]).T\n",
    "df_model3b.insert(2,'model3b',y_pred_best_model1c)\n",
    "# combine model 3a and 3b\n",
    "df_model3ab = df_model3a.copy()\n",
    "df_model3ab.insert(3,'model3ab',df_model3b['model3b'])\n",
    "df_model3ab['model3ab'] = df_model3ab['model3ab'].replace(np.nan,3).astype(int)\n",
    "# compare model 2 and model 3a+b\n",
    "df_compare2and3 = df_model2.copy()\n",
    "df_compare2and3.insert(3,'model3ab',df_model3ab['model3ab'])\n",
    "df_compare2and3.rename({'classes2':'true y','model2':'model 2: yhat','model3ab':'model 3: yhat'},axis='columns',inplace=True)\n",
    "df_compare2and3['true y'] = df_compare2and3['true y'].astype(int)\n",
    "df_compare2and3.sample(10)"
   ]
  },
  {
   "cell_type": "code",
   "execution_count": 48,
   "metadata": {},
   "outputs": [
    {
     "name": "stdout",
     "output_type": "stream",
     "text": [
      "              precision    recall  f1-score   support\n",
      "\n",
      "    Negative       0.60      0.12      0.21        24\n",
      "     Neutral       0.57      0.79      0.66        58\n",
      "    Positive       0.93      0.69      0.79        91\n",
      "         F/A       0.78      0.90      0.84       127\n",
      "\n",
      "    accuracy                           0.75       300\n",
      "   macro avg       0.72      0.63      0.62       300\n",
      "weighted avg       0.77      0.75      0.74       300\n",
      "\n"
     ]
    },
    {
     "data": {
      "image/png": "[encoded data removed]",
      "text/plain": [
       "<Figure size 720x288 with 4 Axes>"
      ]
     },
     "metadata": {},
     "output_type": "display_data"
    }
   ],
   "source": [
    "print(classification_report(df_compare2and3['true y'],np.array(df_compare2and3['model 3: yhat']),target_names=labels2))\n",
    "confusion_mat(df_compare2and3['true y'],np.array(df_compare2and3['model 3: yhat']),labels2)\n",
    "\n",
    "# cm3 = confusion_matrix(df_compare2and3['true y'],np.array(df_compare2and3['model 3: yhat']),normalize='true')\n",
    "# plt.title(\"Model 3: Normalized Confusion Matrix\")\n",
    "# ax = sns.heatmap(cm3,annot=True,fmt='.2',cmap='Blues',yticklabels=labels2,xticklabels=labels2)\n",
    "# ax.set(xlabel='Predicted label',ylabel='True label')\n",
    "# # plt.savefig('../images/cm_image3.png')"
   ]
  },
  {
   "cell_type": "code",
   "execution_count": 49,
   "metadata": {},
   "outputs": [
    {
     "name": "stdout",
     "output_type": "stream",
     "text": [
      "MODEL 3 SUMMARY -- FULL SYSTEM W/ VOTING ENSEMBLE:\n",
      "\n",
      "Null Accuracy (baseline):   0.427\n",
      "Accuracy (test data):   0.753\n",
      "F1 Score (macro):   0.624\n",
      "F1 Score (weighted):   0.738\n",
      "Misclassification Error-Rate:   0.247\n",
      "\n",
      "Model 3's accuracy on the test data is 32.63% better than the theoretical baseline (null accuracy)\n"
     ]
    }
   ],
   "source": [
    "acc4b = accuracy_score(df_compare2and3['true y'],np.array(df_compare2and3['model 3: yhat']))\n",
    "f1_mac4b = f1_score(df_compare2and3['true y'],np.array(df_compare2and3['model 3: yhat']),average='macro')\n",
    "f1_w4b = f1_score(df_compare2and3['true y'],np.array(df_compare2and3['model 3: yhat']),average='weighted')\n",
    "miss4b = 1-acc4b\n",
    "base_actual4b = round((acc4b-base2)*100,2)\n",
    "\n",
    "print(\"MODEL 3 SUMMARY -- FULL SYSTEM W/ VOTING ENSEMBLE:\\n\")\n",
    "print('Null Accuracy (baseline):  ', base2.round(3))\n",
    "print('Accuracy (test data):  ', acc4b.round(3))\n",
    "print('F1 Score (macro):  ',f1_mac4b.round(3))\n",
    "print('F1 Score (weighted):  ',f1_w4b.round(3))\n",
    "print('Misclassification Error-Rate:  ', miss4b.round(3))\n",
    "print(\"\\nModel 3's accuracy on the test data is %0.2f%% better than the theoretical baseline (null accuracy)\"%(base_actual4b))"
   ]
  },
  {
   "cell_type": "markdown",
   "metadata": {},
   "source": [
    "### 5.3.2 Results"
   ]
  },
  {
   "cell_type": "code",
   "execution_count": 50,
   "metadata": {},
   "outputs": [],
   "source": [
    "# LOGISTIC REGRESSION SUMMARY RESULTS\n",
    "pred2a = pd.DataFrame({'clean_tweets':corpus_test3.values,'labels':y_pred_best3a})\n",
    "pred2a = pred2a[pred2a.labels==1]\n",
    "pred3a = corpus_test1b[corpus_test1b.clean_tweets.isin(pred2a.clean_tweets)]\n",
    "pred4a = testing[testing.index.isin(pred3a.index)]\n",
    "pred4a['classes2'] = pd.to_numeric(pred4a['classes2'])\n",
    "\n",
    "best_model1a1 = gs_tfidf_lr1a.best_estimator_\n",
    "y_pred_best_model1c1 = best_model1a1.predict(pred4a.clean_tweets)\n",
    "\n",
    "df_model3a1 = pd.DataFrame([corpus_test3,y_test3]).T\n",
    "df_model3a1.insert(2,'model3a',y_pred_best3a)\n",
    "df_model3b1 = pd.DataFrame([pred4a.clean_tweets,pred4a.classes2]).T\n",
    "df_model3b1.insert(2,'model3b',y_pred_best_model1c1)\n",
    "df_model3ab1 = df_model3a1.copy()\n",
    "df_model3ab1.insert(3,'model3ab',df_model3b1['model3b'])\n",
    "df_model3ab1['model3ab'] = df_model3ab1['model3ab'].replace(np.nan,3).astype(int)\n",
    "df_compare2and31 = df_model2.copy()\n",
    "df_compare2and31.insert(3,'model3ab',df_model3ab1['model3ab'])\n",
    "df_compare2and31.rename({'classes2':'true y','model2':'model 2: yhat','model3ab':'model 3: yhat'},axis='columns',inplace=True)\n",
    "df_compare2and31['true y'] = df_compare2and31['true y'].astype(int)\n",
    "\n",
    "acc4b1 = accuracy_score(df_compare2and31['true y'],np.array(df_compare2and31['model 3: yhat']))\n",
    "f1_mac4b1 = f1_score(df_compare2and31['true y'],np.array(df_compare2and31['model 3: yhat']),average='macro')\n",
    "f1_w4b1 = f1_score(df_compare2and31['true y'],np.array(df_compare2and31['model 3: yhat']),average='weighted')\n",
    "miss4b1 = 1-acc4b1\n",
    "base_actual4b1 = round((acc4b1-base2)*100,2)\n",
    "\n",
    "# RIDGE CLASSIFIER SUMMARY RESULTS\n",
    "pred2b = pd.DataFrame({'clean_tweets':corpus_test3.values,'labels':y_pred_best3b})\n",
    "pred2b = pred2b[pred2b.labels==1]\n",
    "pred3b = corpus_test1b[corpus_test1b.clean_tweets.isin(pred2b.clean_tweets)]\n",
    "pred4b = testing[testing.index.isin(pred3b.index)]\n",
    "pred4b['classes2'] = pd.to_numeric(pred4b['classes2'])\n",
    "\n",
    "best_model1a2 = gs_tfidf_lr1a.best_estimator_\n",
    "y_pred_best_model1c2 = best_model1a2.predict(pred4b.clean_tweets)\n",
    "\n",
    "df_model3a2 = pd.DataFrame([corpus_test3,y_test3]).T\n",
    "df_model3a2.insert(2,'model3a',y_pred_best3b)\n",
    "df_model3b2 = pd.DataFrame([pred4b.clean_tweets,pred4b.classes2]).T\n",
    "df_model3b2.insert(2,'model3b',y_pred_best_model1c2)\n",
    "df_model3ab2 = df_model3a2.copy()\n",
    "df_model3ab2.insert(3,'model3ab',df_model3b2['model3b'])\n",
    "df_model3ab2['model3ab'] = df_model3ab2['model3ab'].replace(np.nan,3).astype(int)\n",
    "df_compare2and32 = df_model2.copy()\n",
    "df_compare2and32.insert(3,'model3ab',df_model3ab2['model3ab'])\n",
    "df_compare2and32.rename({'classes2':'true y','model2':'model 2: yhat','model3ab':'model 3: yhat'},axis='columns',inplace=True)\n",
    "df_compare2and32['true y'] = df_compare2and32['true y'].astype(int)\n",
    "\n",
    "acc4b2 = accuracy_score(df_compare2and32['true y'],np.array(df_compare2and32['model 3: yhat']))\n",
    "f1_mac4b2 = f1_score(df_compare2and32['true y'],np.array(df_compare2and32['model 3: yhat']),average='macro')\n",
    "f1_w4b2 = f1_score(df_compare2and32['true y'],np.array(df_compare2and32['model 3: yhat']),average='weighted')\n",
    "miss4b2 = 1-acc4b2\n",
    "base_actual4b2 = round((acc4b2-base2)*100,2)"
   ]
  },
  {
   "cell_type": "code",
   "execution_count": 51,
   "metadata": {},
   "outputs": [
    {
     "data": {
      "text/html": [
       "<style type=\"text/css\">\n",
       "#T_149c7_row2_col0, #T_149c7_row2_col1, #T_149c7_row2_col2, #T_149c7_row2_col3 {\n",
       "  background-color: yellow;\n",
       "}\n",
       "</style>\n",
       "<table id=\"T_149c7_\">\n",
       "  <thead>\n",
       "    <tr>\n",
       "      <th class=\"blank level0\" >&nbsp;</th>\n",
       "      <th class=\"col_heading level0 col0\" >Test Acc.</th>\n",
       "      <th class=\"col_heading level0 col1\" >F1 (macro)</th>\n",
       "      <th class=\"col_heading level0 col2\" >F1 (weighted)</th>\n",
       "      <th class=\"col_heading level0 col3\" >Error-Rate</th>\n",
       "    </tr>\n",
       "    <tr>\n",
       "      <th class=\"index_name level0\" >(Step 2) Full System Algorithm Combination</th>\n",
       "      <th class=\"blank col0\" >&nbsp;</th>\n",
       "      <th class=\"blank col1\" >&nbsp;</th>\n",
       "      <th class=\"blank col2\" >&nbsp;</th>\n",
       "      <th class=\"blank col3\" >&nbsp;</th>\n",
       "    </tr>\n",
       "  </thead>\n",
       "  <tbody>\n",
       "    <tr>\n",
       "      <th id=\"T_149c7_level0_row0\" class=\"row_heading level0 row0\" >Logistic Regression | LR</th>\n",
       "      <td id=\"T_149c7_row0_col0\" class=\"data row0 col0\" >0.693</td>\n",
       "      <td id=\"T_149c7_row0_col1\" class=\"data row0 col1\" >0.588</td>\n",
       "      <td id=\"T_149c7_row0_col2\" class=\"data row0 col2\" >0.695</td>\n",
       "      <td id=\"T_149c7_row0_col3\" class=\"data row0 col3\" >0.307</td>\n",
       "    </tr>\n",
       "    <tr>\n",
       "      <th id=\"T_149c7_level0_row1\" class=\"row_heading level0 row1\" >Ridge Classifier | LR</th>\n",
       "      <td id=\"T_149c7_row1_col0\" class=\"data row1 col0\" >0.700</td>\n",
       "      <td id=\"T_149c7_row1_col1\" class=\"data row1 col1\" >0.591</td>\n",
       "      <td id=\"T_149c7_row1_col2\" class=\"data row1 col2\" >0.699</td>\n",
       "      <td id=\"T_149c7_row1_col3\" class=\"data row1 col3\" >0.300</td>\n",
       "    </tr>\n",
       "    <tr>\n",
       "      <th id=\"T_149c7_level0_row2\" class=\"row_heading level0 row2\" >Voting Ensemble | LR</th>\n",
       "      <td id=\"T_149c7_row2_col0\" class=\"data row2 col0\" >0.753</td>\n",
       "      <td id=\"T_149c7_row2_col1\" class=\"data row2 col1\" >0.624</td>\n",
       "      <td id=\"T_149c7_row2_col2\" class=\"data row2 col2\" >0.738</td>\n",
       "      <td id=\"T_149c7_row2_col3\" class=\"data row2 col3\" >0.247</td>\n",
       "    </tr>\n",
       "  </tbody>\n",
       "</table>\n"
      ],
      "text/plain": [
       "<pandas.io.formats.style.Styler at 0x7f8b26574c40>"
      ]
     },
     "execution_count": 51,
     "metadata": {},
     "output_type": "execute_result"
    }
   ],
   "source": [
    "evals_step2 = pd.DataFrame({'(Step 2) Full System Algorithm Combination':['Logistic Regression | LR','Ridge Classifier | LR','Voting Ensemble | LR'],\n",
    "                            'Test Acc.':[acc4b1,acc4b2,acc4b],\n",
    "                            'F1 (macro)':[f1_mac4b1,f1_mac4b2,f1_mac4b],\n",
    "                            'F1 (weighted)':[f1_w4b1,f1_w4b2,f1_w4b],\n",
    "                            'Error-Rate':[miss4b1,miss4b2,miss4b]}).set_index(['(Step 2) Full System Algorithm Combination'])                                                                                          \n",
    "\n",
    "subsets = pd.IndexSlice[('Voting Ensemble | LR'),evals_step2.columns[:]]\n",
    "ev2 = evals_step2.style.format(precision=3).applymap(lambda x:\"background-color:yellow\",subset=subsets)\n",
    "# dfi.export(ev2,'../images/evals_step2.png')\n",
    "ev2"
   ]
  },
  {
   "cell_type": "markdown",
   "metadata": {},
   "source": [
    "## 6. Performance Metrics Evaluation"
   ]
  },
  {
   "cell_type": "code",
   "execution_count": 52,
   "metadata": {},
   "outputs": [],
   "source": [
    "precision1,recall1,fscore1,support1 = precision_recall_fscore_support(y_test1, y_pred_best_model1)\n",
    "precision2,recall2,fscore2,support2 = precision_recall_fscore_support(y_test2,y_pred_best2)\n",
    "precision3,recall3,fscore3,support3 = precision_recall_fscore_support(df_compare2and3['true y'],np.array(df_compare2and3['model 3: yhat']))\n",
    "precision4,recall4,fscore4,support4 = precision_recall_fscore_support(df_compare2and31['true y'],np.array(df_compare2and31['model 3: yhat']))\n",
    "precision5,recall5,fscore5,support5 = precision_recall_fscore_support(df_compare2and32['true y'],np.array(df_compare2and32['model 3: yhat']))\n",
    "\n",
    "model_name = ['Model 1: Reduced Sentiment Model','Model 2: Full Sentiment Model','Model 3: 2 Step Model','Model 3: 2 Step Model','Model 3: 2 Step Model']\n",
    "alg_method = ['Logistic Regression','Logistic Regression','Logistic Regression | LR','Ridge Classifier | LR','Ensemble Voting | LR']\n",
    "cols_idx = {'Prec_0':'Negative','F1_0':'Negative','Rec_0':'Negative','Prec_1':'Neutral','F1_1':'Neutral','Rec_1':'Neutral','Prec_2':'Positive','F1_2':'Positive','Rec_2':'Positive','Prec_3':'F/A','F1_3':'F/A','Rec_3':'F/A'}\n",
    "\n",
    "final_evals1 = pd.DataFrame({'Model':model_name,\n",
    "                      'Algorithm / Method':alg_method,\n",
    "                      'Test Accuracy':[acc1,acc2,acc4b1,acc4b2,acc4b],\n",
    "                      'Null Accuracy':[base1,base2,base2,base2,base2],\n",
    "                      'Δ Acc.':['+'+str(base_actual1)+'%','+'+str(base_actual2)+'%','+'+str(base_actual4b1)+'%','+'+str(base_actual4b2)+'%','+'+str(base_actual4b)+'%'],\n",
    "                      'Error-Rate':[miss1,miss2,miss4b1,miss4b2,miss4b]}).set_index(['Model','Algorithm / Method'])\n",
    "\n",
    "final_evals2 = pd.DataFrame({'Model':model_name,\n",
    "                      'Algorithm / Method':alg_method,\n",
    "                      'Prec_0':[precision1[0],precision2[0],precision4[0],precision5[0],precision3[0]],\n",
    "                      'Rec_0':[recall1[0],recall2[0],recall4[0],recall5[0],recall3[0]],\n",
    "                      'F1_0':[fscore1[0],fscore2[0],fscore4[0],fscore5[0],fscore3[0]],\n",
    "                      'Prec_1':[precision1[1],precision2[1],precision4[1],precision5[1],precision3[1]],\n",
    "                      'Rec_1':[recall1[1],recall2[1],recall4[1],recall5[1],recall3[1]],\n",
    "                      'F1_1':[fscore1[1],fscore2[1],fscore4[1],fscore5[1],fscore3[1]],\n",
    "                      'Prec_2':[precision1[2],precision2[2],precision4[2],precision5[2],precision3[2]],\n",
    "                      'Rec_2':[recall1[2],recall2[2],recall4[2],recall5[2],recall3[2]],\n",
    "                      'F1_2':[fscore1[2],fscore2[2],fscore4[2],fscore5[2],fscore3[2]],\n",
    "                      'Prec_3':['--',precision2[3],precision4[3],precision5[3],precision3[3]],\n",
    "                      'Rec_3':['--',recall2[3],recall4[3],recall5[3],recall3[3]],\n",
    "                      'F1_3':['--',fscore2[3],fscore4[3],fscore5[3],fscore3[3]]}).set_index(['Model','Algorithm / Method'])\n",
    "\n",
    "final_evals2.columns = pd.MultiIndex.from_tuples([*zip(map(cols_idx.get,final_evals2),final_evals2)])"
   ]
  },
  {
   "cell_type": "code",
   "execution_count": 53,
   "metadata": {},
   "outputs": [
    {
     "data": {
      "text/html": [
       "<style type=\"text/css\">\n",
       "#T_3de70_row4_col0, #T_3de70_row4_col1, #T_3de70_row4_col2, #T_3de70_row4_col3 {\n",
       "  background-color: yellow;\n",
       "}\n",
       "</style>\n",
       "<table id=\"T_3de70_\">\n",
       "  <thead>\n",
       "    <tr>\n",
       "      <th class=\"blank\" >&nbsp;</th>\n",
       "      <th class=\"blank level0\" >&nbsp;</th>\n",
       "      <th class=\"col_heading level0 col0\" >Test Accuracy</th>\n",
       "      <th class=\"col_heading level0 col1\" >Null Accuracy</th>\n",
       "      <th class=\"col_heading level0 col2\" >Δ Acc.</th>\n",
       "      <th class=\"col_heading level0 col3\" >Error-Rate</th>\n",
       "    </tr>\n",
       "    <tr>\n",
       "      <th class=\"index_name level0\" >Model</th>\n",
       "      <th class=\"index_name level1\" >Algorithm / Method</th>\n",
       "      <th class=\"blank col0\" >&nbsp;</th>\n",
       "      <th class=\"blank col1\" >&nbsp;</th>\n",
       "      <th class=\"blank col2\" >&nbsp;</th>\n",
       "      <th class=\"blank col3\" >&nbsp;</th>\n",
       "    </tr>\n",
       "  </thead>\n",
       "  <tbody>\n",
       "    <tr>\n",
       "      <th id=\"T_3de70_level0_row0\" class=\"row_heading level0 row0\" >Model 1: Reduced Sentiment Model</th>\n",
       "      <th id=\"T_3de70_level1_row0\" class=\"row_heading level1 row0\" >Logistic Regression</th>\n",
       "      <td id=\"T_3de70_row0_col0\" class=\"data row0 col0\" >0.813</td>\n",
       "      <td id=\"T_3de70_row0_col1\" class=\"data row0 col1\" >0.579</td>\n",
       "      <td id=\"T_3de70_row0_col2\" class=\"data row0 col2\" >+23.43%</td>\n",
       "      <td id=\"T_3de70_row0_col3\" class=\"data row0 col3\" >0.187</td>\n",
       "    </tr>\n",
       "    <tr>\n",
       "      <th id=\"T_3de70_level0_row1\" class=\"row_heading level0 row1\" >Model 2: Full Sentiment Model</th>\n",
       "      <th id=\"T_3de70_level1_row1\" class=\"row_heading level1 row1\" >Logistic Regression</th>\n",
       "      <td id=\"T_3de70_row1_col0\" class=\"data row1 col0\" >0.707</td>\n",
       "      <td id=\"T_3de70_row1_col1\" class=\"data row1 col1\" >0.427</td>\n",
       "      <td id=\"T_3de70_row1_col2\" class=\"data row1 col2\" >+27.97%</td>\n",
       "      <td id=\"T_3de70_row1_col3\" class=\"data row1 col3\" >0.293</td>\n",
       "    </tr>\n",
       "    <tr>\n",
       "      <th id=\"T_3de70_level0_row2\" class=\"row_heading level0 row2\" rowspan=\"3\">Model 3: 2 Step Model</th>\n",
       "      <th id=\"T_3de70_level1_row2\" class=\"row_heading level1 row2\" >Logistic Regression | LR</th>\n",
       "      <td id=\"T_3de70_row2_col0\" class=\"data row2 col0\" >0.693</td>\n",
       "      <td id=\"T_3de70_row2_col1\" class=\"data row2 col1\" >0.427</td>\n",
       "      <td id=\"T_3de70_row2_col2\" class=\"data row2 col2\" >+26.63%</td>\n",
       "      <td id=\"T_3de70_row2_col3\" class=\"data row2 col3\" >0.307</td>\n",
       "    </tr>\n",
       "    <tr>\n",
       "      <th id=\"T_3de70_level1_row3\" class=\"row_heading level1 row3\" >Ridge Classifier | LR</th>\n",
       "      <td id=\"T_3de70_row3_col0\" class=\"data row3 col0\" >0.700</td>\n",
       "      <td id=\"T_3de70_row3_col1\" class=\"data row3 col1\" >0.427</td>\n",
       "      <td id=\"T_3de70_row3_col2\" class=\"data row3 col2\" >+27.3%</td>\n",
       "      <td id=\"T_3de70_row3_col3\" class=\"data row3 col3\" >0.300</td>\n",
       "    </tr>\n",
       "    <tr>\n",
       "      <th id=\"T_3de70_level1_row4\" class=\"row_heading level1 row4\" >Ensemble Voting | LR</th>\n",
       "      <td id=\"T_3de70_row4_col0\" class=\"data row4 col0\" >0.753</td>\n",
       "      <td id=\"T_3de70_row4_col1\" class=\"data row4 col1\" >0.427</td>\n",
       "      <td id=\"T_3de70_row4_col2\" class=\"data row4 col2\" >+32.63%</td>\n",
       "      <td id=\"T_3de70_row4_col3\" class=\"data row4 col3\" >0.247</td>\n",
       "    </tr>\n",
       "  </tbody>\n",
       "</table>\n"
      ],
      "text/plain": [
       "<pandas.io.formats.style.Styler at 0x7f8b2056e8b0>"
      ]
     },
     "execution_count": 53,
     "metadata": {},
     "output_type": "execute_result"
    }
   ],
   "source": [
    "subsets = pd.IndexSlice[('Model 3: 2 Step Model','Ensemble Voting | LR'),final_evals1.columns[:]]\n",
    "ev3 = final_evals1.style.format(precision=3).applymap(lambda x:\"background-color:yellow\",subset=subsets)\n",
    "# dfi.export(ev3,'../images/final_evals1.png')\n",
    "ev3"
   ]
  },
  {
   "cell_type": "code",
   "execution_count": 54,
   "metadata": {
    "scrolled": false
   },
   "outputs": [
    {
     "data": {
      "text/html": [
       "<style type=\"text/css\">\n",
       "</style>\n",
       "<table id=\"T_afb3f_\">\n",
       "  <thead>\n",
       "    <tr>\n",
       "      <th class=\"blank\" >&nbsp;</th>\n",
       "      <th class=\"blank level0\" >&nbsp;</th>\n",
       "      <th class=\"col_heading level0 col0\" colspan=\"3\">Negative</th>\n",
       "      <th class=\"col_heading level0 col3\" colspan=\"3\">Neutral</th>\n",
       "      <th class=\"col_heading level0 col6\" colspan=\"3\">Positive</th>\n",
       "      <th class=\"col_heading level0 col9\" colspan=\"3\">F/A</th>\n",
       "    </tr>\n",
       "    <tr>\n",
       "      <th class=\"blank\" >&nbsp;</th>\n",
       "      <th class=\"blank level1\" >&nbsp;</th>\n",
       "      <th class=\"col_heading level1 col0\" >Prec_0</th>\n",
       "      <th class=\"col_heading level1 col1\" >Rec_0</th>\n",
       "      <th class=\"col_heading level1 col2\" >F1_0</th>\n",
       "      <th class=\"col_heading level1 col3\" >Prec_1</th>\n",
       "      <th class=\"col_heading level1 col4\" >Rec_1</th>\n",
       "      <th class=\"col_heading level1 col5\" >F1_1</th>\n",
       "      <th class=\"col_heading level1 col6\" >Prec_2</th>\n",
       "      <th class=\"col_heading level1 col7\" >Rec_2</th>\n",
       "      <th class=\"col_heading level1 col8\" >F1_2</th>\n",
       "      <th class=\"col_heading level1 col9\" >Prec_3</th>\n",
       "      <th class=\"col_heading level1 col10\" >Rec_3</th>\n",
       "      <th class=\"col_heading level1 col11\" >F1_3</th>\n",
       "    </tr>\n",
       "    <tr>\n",
       "      <th class=\"index_name level0\" >Model</th>\n",
       "      <th class=\"index_name level1\" >Algorithm / Method</th>\n",
       "      <th class=\"blank col0\" >&nbsp;</th>\n",
       "      <th class=\"blank col1\" >&nbsp;</th>\n",
       "      <th class=\"blank col2\" >&nbsp;</th>\n",
       "      <th class=\"blank col3\" >&nbsp;</th>\n",
       "      <th class=\"blank col4\" >&nbsp;</th>\n",
       "      <th class=\"blank col5\" >&nbsp;</th>\n",
       "      <th class=\"blank col6\" >&nbsp;</th>\n",
       "      <th class=\"blank col7\" >&nbsp;</th>\n",
       "      <th class=\"blank col8\" >&nbsp;</th>\n",
       "      <th class=\"blank col9\" >&nbsp;</th>\n",
       "      <th class=\"blank col10\" >&nbsp;</th>\n",
       "      <th class=\"blank col11\" >&nbsp;</th>\n",
       "    </tr>\n",
       "  </thead>\n",
       "  <tbody>\n",
       "    <tr>\n",
       "      <th id=\"T_afb3f_level0_row0\" class=\"row_heading level0 row0\" >Model 1: Reduced Sentiment Model</th>\n",
       "      <th id=\"T_afb3f_level1_row0\" class=\"row_heading level1 row0\" >Logistic Regression</th>\n",
       "      <td id=\"T_afb3f_row0_col0\" class=\"data row0 col0\" >0.600</td>\n",
       "      <td id=\"T_afb3f_row0_col1\" class=\"data row0 col1\" >0.125</td>\n",
       "      <td id=\"T_afb3f_row0_col2\" class=\"data row0 col2\" >0.207</td>\n",
       "      <td id=\"T_afb3f_row0_col3\" class=\"data row0 col3\" >0.791</td>\n",
       "      <td id=\"T_afb3f_row0_col4\" class=\"data row0 col4\" >0.962</td>\n",
       "      <td id=\"T_afb3f_row0_col5\" class=\"data row0 col5\" >0.868</td>\n",
       "      <td id=\"T_afb3f_row0_col6\" class=\"data row0 col6\" >0.900</td>\n",
       "      <td id=\"T_afb3f_row0_col7\" class=\"data row0 col7\" >0.692</td>\n",
       "      <td id=\"T_afb3f_row0_col8\" class=\"data row0 col8\" >0.783</td>\n",
       "      <td id=\"T_afb3f_row0_col9\" class=\"data row0 col9\" >--</td>\n",
       "      <td id=\"T_afb3f_row0_col10\" class=\"data row0 col10\" >--</td>\n",
       "      <td id=\"T_afb3f_row0_col11\" class=\"data row0 col11\" >--</td>\n",
       "    </tr>\n",
       "    <tr>\n",
       "      <th id=\"T_afb3f_level0_row1\" class=\"row_heading level0 row1\" >Model 2: Full Sentiment Model</th>\n",
       "      <th id=\"T_afb3f_level1_row1\" class=\"row_heading level1 row1\" >Logistic Regression</th>\n",
       "      <td id=\"T_afb3f_row1_col0\" class=\"data row1 col0\" >0.421</td>\n",
       "      <td id=\"T_afb3f_row1_col1\" class=\"data row1 col1\" >0.333</td>\n",
       "      <td id=\"T_afb3f_row1_col2\" class=\"data row1 col2\" >0.372</td>\n",
       "      <td id=\"T_afb3f_row1_col3\" class=\"data row1 col3\" >0.629</td>\n",
       "      <td id=\"T_afb3f_row1_col4\" class=\"data row1 col4\" >0.379</td>\n",
       "      <td id=\"T_afb3f_row1_col5\" class=\"data row1 col5\" >0.473</td>\n",
       "      <td id=\"T_afb3f_row1_col6\" class=\"data row1 col6\" >0.692</td>\n",
       "      <td id=\"T_afb3f_row1_col7\" class=\"data row1 col7\" >0.791</td>\n",
       "      <td id=\"T_afb3f_row1_col8\" class=\"data row1 col8\" >0.738</td>\n",
       "      <td id=\"T_afb3f_row1_col9\" class=\"data row1 col9\" >0.775</td>\n",
       "      <td id=\"T_afb3f_row1_col10\" class=\"data row1 col10\" >0.866</td>\n",
       "      <td id=\"T_afb3f_row1_col11\" class=\"data row1 col11\" >0.818</td>\n",
       "    </tr>\n",
       "    <tr>\n",
       "      <th id=\"T_afb3f_level0_row2\" class=\"row_heading level0 row2\" rowspan=\"3\">Model 3: 2 Step Model</th>\n",
       "      <th id=\"T_afb3f_level1_row2\" class=\"row_heading level1 row2\" >Logistic Regression | LR</th>\n",
       "      <td id=\"T_afb3f_row2_col0\" class=\"data row2 col0\" >0.600</td>\n",
       "      <td id=\"T_afb3f_row2_col1\" class=\"data row2 col1\" >0.125</td>\n",
       "      <td id=\"T_afb3f_row2_col2\" class=\"data row2 col2\" >0.207</td>\n",
       "      <td id=\"T_afb3f_row2_col3\" class=\"data row2 col3\" >0.436</td>\n",
       "      <td id=\"T_afb3f_row2_col4\" class=\"data row2 col4\" >0.879</td>\n",
       "      <td id=\"T_afb3f_row2_col5\" class=\"data row2 col5\" >0.583</td>\n",
       "      <td id=\"T_afb3f_row2_col6\" class=\"data row2 col6\" >0.926</td>\n",
       "      <td id=\"T_afb3f_row2_col7\" class=\"data row2 col7\" >0.692</td>\n",
       "      <td id=\"T_afb3f_row2_col8\" class=\"data row2 col8\" >0.792</td>\n",
       "      <td id=\"T_afb3f_row2_col9\" class=\"data row2 col9\" >0.827</td>\n",
       "      <td id=\"T_afb3f_row2_col10\" class=\"data row2 col10\" >0.717</td>\n",
       "      <td id=\"T_afb3f_row2_col11\" class=\"data row2 col11\" >0.768</td>\n",
       "    </tr>\n",
       "    <tr>\n",
       "      <th id=\"T_afb3f_level1_row3\" class=\"row_heading level1 row3\" >Ridge Classifier | LR</th>\n",
       "      <td id=\"T_afb3f_row3_col0\" class=\"data row3 col0\" >0.600</td>\n",
       "      <td id=\"T_afb3f_row3_col1\" class=\"data row3 col1\" >0.125</td>\n",
       "      <td id=\"T_afb3f_row3_col2\" class=\"data row3 col2\" >0.207</td>\n",
       "      <td id=\"T_afb3f_row3_col3\" class=\"data row3 col3\" >0.450</td>\n",
       "      <td id=\"T_afb3f_row3_col4\" class=\"data row3 col4\" >0.862</td>\n",
       "      <td id=\"T_afb3f_row3_col5\" class=\"data row3 col5\" >0.592</td>\n",
       "      <td id=\"T_afb3f_row3_col6\" class=\"data row3 col6\" >0.925</td>\n",
       "      <td id=\"T_afb3f_row3_col7\" class=\"data row3 col7\" >0.681</td>\n",
       "      <td id=\"T_afb3f_row3_col8\" class=\"data row3 col8\" >0.785</td>\n",
       "      <td id=\"T_afb3f_row3_col9\" class=\"data row3 col9\" >0.812</td>\n",
       "      <td id=\"T_afb3f_row3_col10\" class=\"data row3 col10\" >0.748</td>\n",
       "      <td id=\"T_afb3f_row3_col11\" class=\"data row3 col11\" >0.779</td>\n",
       "    </tr>\n",
       "    <tr>\n",
       "      <th id=\"T_afb3f_level1_row4\" class=\"row_heading level1 row4\" >Ensemble Voting | LR</th>\n",
       "      <td id=\"T_afb3f_row4_col0\" class=\"data row4 col0\" >0.600</td>\n",
       "      <td id=\"T_afb3f_row4_col1\" class=\"data row4 col1\" >0.125</td>\n",
       "      <td id=\"T_afb3f_row4_col2\" class=\"data row4 col2\" >0.207</td>\n",
       "      <td id=\"T_afb3f_row4_col3\" class=\"data row4 col3\" >0.568</td>\n",
       "      <td id=\"T_afb3f_row4_col4\" class=\"data row4 col4\" >0.793</td>\n",
       "      <td id=\"T_afb3f_row4_col5\" class=\"data row4 col5\" >0.662</td>\n",
       "      <td id=\"T_afb3f_row4_col6\" class=\"data row4 col6\" >0.926</td>\n",
       "      <td id=\"T_afb3f_row4_col7\" class=\"data row4 col7\" >0.692</td>\n",
       "      <td id=\"T_afb3f_row4_col8\" class=\"data row4 col8\" >0.792</td>\n",
       "      <td id=\"T_afb3f_row4_col9\" class=\"data row4 col9\" >0.781</td>\n",
       "      <td id=\"T_afb3f_row4_col10\" class=\"data row4 col10\" >0.898</td>\n",
       "      <td id=\"T_afb3f_row4_col11\" class=\"data row4 col11\" >0.835</td>\n",
       "    </tr>\n",
       "  </tbody>\n",
       "</table>\n"
      ],
      "text/plain": [
       "<pandas.io.formats.style.Styler at 0x7f8b2056e220>"
      ]
     },
     "execution_count": 54,
     "metadata": {},
     "output_type": "execute_result"
    }
   ],
   "source": [
    "final_evals2.style.format(precision=3)"
   ]
  },
  {
   "cell_type": "code",
   "execution_count": 55,
   "metadata": {},
   "outputs": [
    {
     "data": {
      "image/png": "[encoded data removed]",
      "text/plain": [
       "<Figure size 1080x288 with 3 Axes>"
      ]
     },
     "metadata": {},
     "output_type": "display_data"
    }
   ],
   "source": [
    "cm1 = confusion_matrix(y_test1,y_pred_best_model1,normalize='true')\n",
    "cm2 = confusion_matrix(y_test2,y_pred_best2,normalize='true')\n",
    "cm3 = confusion_matrix(df_compare2and3['true y'],np.array(df_compare2and3['model 3: yhat']),normalize='true')\n",
    "\n",
    "fig, ax = plt.subplots(1,3,figsize=(15,4))\n",
    "sns.heatmap(cm1,annot=True,fmt='.2',cmap='Blues',yticklabels=labels,xticklabels=labels,cbar=False,ax=ax[0])\n",
    "sns.heatmap(cm2,annot=True,fmt='.2',cmap='Blues',yticklabels=labels2,xticklabels=labels2,cbar=False,ax=ax[1])\n",
    "sns.heatmap(cm3,annot=True,fmt='.2',cmap='Blues',yticklabels=labels2,xticklabels=labels2,cbar=False,ax=ax[2])\n",
    "\n",
    "ax[0].set_title('Model 1: Normalized Confusion Matrix')\n",
    "ax[1].set_title('Model 2: Normalized Confusion Matrix')\n",
    "ax[2].set_title('Model 3: Normalized Confusion Matrix')\n",
    "# plt.savefig('../images/cm_image0.png')\n",
    "plt.show();"
   ]
  },
  {
   "cell_type": "code",
   "execution_count": null,
   "metadata": {},
   "outputs": [],
   "source": []
  }
 ],
 "metadata": {
  "kernelspec": {
   "display_name": "Python 3 (ipykernel)",
   "language": "python",
   "name": "python3"
  },
  "language_info": {
   "codemirror_mode": {
    "name": "ipython",
    "version": 3
   },
   "file_extension": ".py",
   "mimetype": "text/x-python",
   "name": "python",
   "nbconvert_exporter": "python",
   "pygments_lexer": "ipython3",
   "version": "3.8.10"
  }
 },
 "nbformat": 4,
 "nbformat_minor": 4
}
